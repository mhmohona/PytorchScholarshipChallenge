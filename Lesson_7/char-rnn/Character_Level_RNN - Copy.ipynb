{
 "cells": [
  {
   "cell_type": "markdown",
   "metadata": {
    "colab_type": "text",
    "id": "sBvTMcBBYGL3"
   },
   "source": [
    "# Character-Level LSTM in PyTorch\n",
    "\n",
    "In this notebook, I'll construct a character-level LSTM with PyTorch. The network will train character by character on some text, then generate new text character by character. As an example, I will train on Anna Karenina. **This model will be able to generate new text based on the text from the book!**\n",
    "\n",
    "This network is based off of Andrej Karpathy's [post on RNNs](http://karpathy.github.io/2015/05/21/rnn-effectiveness/) and [implementation in Torch](https://github.com/karpathy/char-rnn). Below is the general architecture of the character-wise RNN.\n",
    "\n",
    "<img src=\"assets/charseq.jpeg\" width=\"500\">"
   ]
  },
  {
   "cell_type": "code",
   "execution_count": 1,
   "metadata": {
    "colab": {},
    "colab_type": "code",
    "id": "ahh0c6YyKz4U"
   },
   "outputs": [],
   "source": [
    "%matplotlib inline\n",
    "%config InlineBackend.figure_format = 'retina'\n",
    "\n",
    "import matplotlib.pyplot as plt\n",
    "from torch import nn\n",
    "from torch import optim\n",
    "import torch.nn.functional as F\n",
    "from torchvision import datasets, transforms, models"
   ]
  },
  {
   "cell_type": "markdown",
   "metadata": {
    "colab_type": "text",
    "id": "BeU0oWg7YGL7"
   },
   "source": [
    "First let's load in our required resources for data loading and model creation."
   ]
  },
  {
   "cell_type": "code",
   "execution_count": 2,
   "metadata": {
    "colab": {},
    "colab_type": "code",
    "id": "oxYVwxq4YGL-"
   },
   "outputs": [],
   "source": [
    "import numpy as np\n",
    "import torch\n",
    "from torch import nn\n",
    "import torch.nn.functional as F"
   ]
  },
  {
   "cell_type": "markdown",
   "metadata": {
    "colab_type": "text",
    "id": "hyUk5_teYGME"
   },
   "source": [
    "## Load in Data\n",
    "\n",
    "Then, we'll load the Anna Karenina text file and convert it into integers for our network to use. "
   ]
  },
  {
   "cell_type": "markdown",
   "metadata": {
    "colab_type": "text",
    "id": "LEHyiy65YGMn"
   },
   "source": [
    "## Pre-processing the data\n",
    "\n",
    "As you can see in our char-RNN image above, our LSTM expects an input that is **one-hot encoded** meaning that each character is converted into an integer (via our created dictionary) and *then* converted into a column vector where only it's corresponding integer index will have the value of 1 and the rest of the vector will be filled with 0's. Since we're one-hot encoding the data, let's make a function to do that!\n"
   ]
  },
  {
   "cell_type": "code",
   "execution_count": 0,
   "metadata": {
    "colab": {},
    "colab_type": "code",
    "id": "ILuHR5X-YGMq"
   },
   "outputs": [],
   "source": [
    "def one_hot_encode(arr, n_labels):\n",
    "    \n",
    "    # Initialize the the encoded array\n",
    "    one_hot = np.zeros((np.multiply(*arr.shape), n_labels), dtype=np.float32)\n",
    "    \n",
    "    # Fill the appropriate elements with ones\n",
    "    one_hot[np.arange(one_hot.shape[0]), arr.flatten()] = 1.\n",
    "    \n",
    "    # Finally reshape it to get back to the original array\n",
    "    one_hot = one_hot.reshape((*arr.shape, n_labels))\n",
    "    \n",
    "    return one_hot"
   ]
  },
  {
   "cell_type": "code",
   "execution_count": 36,
   "metadata": {
    "colab": {
     "base_uri": "https://localhost:8080/",
     "height": 68
    },
    "colab_type": "code",
    "id": "uoOixVmkYGMx",
    "outputId": "0fc8a963-70fa-43b6-954a-2773e2a6f9c9"
   },
   "outputs": [
    {
     "name": "stdout",
     "output_type": "stream",
     "text": [
      "[[[0. 0. 0. 1. 0. 0. 0. 0.]\n",
      "  [0. 0. 0. 0. 0. 1. 0. 0.]\n",
      "  [0. 1. 0. 0. 0. 0. 0. 0.]]]\n"
     ]
    }
   ],
   "source": [
    "# check that the function works as expected\n",
    "test_seq = np.array([[3, 5, 1]])\n",
    "one_hot = one_hot_encode(test_seq, 8)\n",
    "\n",
    "print(one_hot)"
   ]
  },
  {
   "cell_type": "markdown",
   "metadata": {
    "colab_type": "text",
    "id": "JKY1kgMyYGM4"
   },
   "source": [
    "## Making training mini-batches\n",
    "\n",
    "\n",
    "To train on this data, we also want to create mini-batches for training. Remember that we want our batches to be multiple sequences of some desired number of sequence steps. Considering a simple example, our batches would look like this:\n",
    "\n",
    "<img src=\"assets/sequence_batching@1x.png\" width=500px>\n",
    "\n",
    "\n",
    "<br>\n",
    "\n",
    "In this example, we'll take the encoded characters (passed in as the `arr` parameter) and split them into multiple sequences, given by `batch_size`. Each of our sequences will be `seq_length` long.\n",
    "\n",
    "### Creating Batches\n",
    "\n",
    "**1. The first thing we need to do is discard some of the text so we only have completely full mini-batches. **\n",
    "\n",
    "Each batch contains $N \\times M$ characters, where $N$ is the batch size (the number of sequences in a batch) and $M$ is the seq_length or number of time steps in a sequence. Then, to get the total number of batches, $K$, that we can make from the array `arr`, you divide the length of `arr` by the number of characters per batch. Once you know the number of batches, you can get the total number of characters to keep from `arr`, $N * M * K$.\n",
    "\n",
    "**2. After that, we need to split `arr` into $N$ batches. ** \n",
    "\n",
    "You can do this using `arr.reshape(size)` where `size` is a tuple containing the dimensions sizes of the reshaped array. We know we want $N$ sequences in a batch, so let's make that the size of the first dimension. For the second dimension, you can use `-1` as a placeholder in the size, it'll fill up the array with the appropriate data for you. After this, you should have an array that is $N \\times (M * K)$.\n",
    "\n",
    "**3. Now that we have this array, we can iterate through it to get our mini-batches. **\n",
    "\n",
    "The idea is each batch is a $N \\times M$ window on the $N \\times (M * K)$ array. For each subsequent batch, the window moves over by `seq_length`. We also want to create both the input and target arrays. Remember that the targets are just the inputs shifted over by one character. The way I like to do this window is use `range` to take steps of size `n_steps` from $0$ to `arr.shape[1]`, the total number of tokens in each sequence. That way, the integers you get from `range` always point to the start of a batch, and each window is `seq_length` wide.\n",
    "\n",
    "> **TODO:** Write the code for creating batches in the function below. The exercises in this notebook _will not be easy_. I've provided a notebook with solutions alongside this notebook. If you get stuck, checkout the solutions. The most important thing is that you don't copy and paste the code into here, **type out the solution code yourself.**"
   ]
  },
  {
   "cell_type": "code",
   "execution_count": 0,
   "metadata": {
    "colab": {},
    "colab_type": "code",
    "id": "SCXyyesGYGM6"
   },
   "outputs": [],
   "source": [
    "def get_batches(arr, batch_size, seq_length):\n",
    "    '''Create a generator that returns batches of size\n",
    "       batch_size x seq_length from arr.\n",
    "       \n",
    "       Arguments\n",
    "       ---------\n",
    "       arr: Array you want to make batches from\n",
    "       batch_size: Batch size, the number of sequences per batch\n",
    "       seq_length: Number of encoded chars in a sequence\n",
    "    '''\n",
    "    \n",
    "    batch_size_total = batch_size * seq_length\n",
    "    # total number of batches we can make\n",
    "    n_batches = len(arr)//batch_size_total\n",
    "    \n",
    "    # Keep only enough characters to make full batches\n",
    "    arr = arr[:n_batches * batch_size_total]\n",
    "    # Reshape into batch_size rows\n",
    "    arr = arr.reshape((batch_size, -1))\n",
    "    \n",
    "    # iterate through the array, one sequence at a time\n",
    "    for n in range(0, arr.shape[1], seq_length):\n",
    "        # The features\n",
    "        x = arr[:, n:n+seq_length]\n",
    "        # The targets, shifted by one\n",
    "        y = np.zeros_like(x)\n",
    "        try:\n",
    "            y[:, :-1], y[:, -1] = x[:, 1:], arr[:, n+seq_length]\n",
    "        except IndexError:\n",
    "            y[:, :-1], y[:, -1] = x[:, 1:], arr[:, 0]\n",
    "        yield x, y"
   ]
  },
  {
   "cell_type": "markdown",
   "metadata": {
    "colab_type": "text",
    "id": "oqyjHXF8YGM_"
   },
   "source": [
    "### Test Your Implementation\n",
    "\n",
    "Now I'll make some data sets and we can check out what's going on as we batch data. Here, as an example, I'm going to use a batch size of 8 and 50 sequence steps."
   ]
  },
  {
   "cell_type": "code",
   "execution_count": 0,
   "metadata": {
    "colab": {},
    "colab_type": "code",
    "id": "E3_qcJcLYGNB"
   },
   "outputs": [],
   "source": [
    "batches = get_batches(encoded, 8, 50)\n",
    "x, y = next(batches)"
   ]
  },
  {
   "cell_type": "code",
   "execution_count": 39,
   "metadata": {
    "colab": {
     "base_uri": "https://localhost:8080/",
     "height": 340
    },
    "colab_type": "code",
    "id": "fvVWjXKCYGNH",
    "outputId": "1e8637d7-e652-4480-e473-85b981f83be4"
   },
   "outputs": [
    {
     "name": "stdout",
     "output_type": "stream",
     "text": [
      "x\n",
      " [[56 80 34 19 58 13 32 51 62 46]\n",
      " [44  7 78 51 58 80 34 58 51 34]\n",
      " [13 78 66 51  7 32 51 34 51 16]\n",
      " [44 51 58 80 13 51 14 80 72 13]\n",
      " [51 44 34 23 51 80 13 32 51 58]\n",
      " [14 79 44 44 72  7 78 51 34 78]\n",
      " [51  5 78 78 34 51 80 34 66 51]\n",
      " [42 33 64  7 78 44 69 71 61 51]]\n",
      "\n",
      "y\n",
      " [[80 34 19 58 13 32 51 62 46 46]\n",
      " [ 7 78 51 58 80 34 58 51 34 58]\n",
      " [78 66 51  7 32 51 34 51 16  7]\n",
      " [51 58 80 13 51 14 80 72 13 16]\n",
      " [44 34 23 51 80 13 32 51 58 13]\n",
      " [79 44 44 72  7 78 51 34 78 66]\n",
      " [ 5 78 78 34 51 80 34 66 51 44]\n",
      " [33 64  7 78 44 69 71 61 51 17]]\n"
     ]
    }
   ],
   "source": [
    "# printing out the first 10 items in a sequence\n",
    "print('x\\n', x[:10, :10])\n",
    "print('\\ny\\n', y[:10, :10])"
   ]
  },
  {
   "cell_type": "markdown",
   "metadata": {
    "colab_type": "text",
    "id": "dWy7ikuSYGNL"
   },
   "source": [
    "If you implemented `get_batches` correctly, the above output should look something like \n",
    "```\n",
    "x\n",
    " [[25  8 60 11 45 27 28 73  1  2]\n",
    " [17  7 20 73 45  8 60 45 73 60]\n",
    " [27 20 80 73  7 28 73 60 73 65]\n",
    " [17 73 45  8 27 73 66  8 46 27]\n",
    " [73 17 60 12 73  8 27 28 73 45]\n",
    " [66 64 17 17 46  7 20 73 60 20]\n",
    " [73 76 20 20 60 73  8 60 80 73]\n",
    " [47 35 43  7 20 17 24 50 37 73]]\n",
    "\n",
    "y\n",
    " [[ 8 60 11 45 27 28 73  1  2  2]\n",
    " [ 7 20 73 45  8 60 45 73 60 45]\n",
    " [20 80 73  7 28 73 60 73 65  7]\n",
    " [73 45  8 27 73 66  8 46 27 65]\n",
    " [17 60 12 73  8 27 28 73 45 27]\n",
    " [64 17 17 46  7 20 73 60 20 80]\n",
    " [76 20 20 60 73  8 60 80 73 17]\n",
    " [35 43  7 20 17 24 50 37 73 36]]\n",
    " ```\n",
    " although the exact numbers may be different. Check to make sure the data is shifted over one step for `y`."
   ]
  },
  {
   "cell_type": "markdown",
   "metadata": {
    "colab_type": "text",
    "id": "KjTuheSOYGNO"
   },
   "source": [
    "---\n",
    "## Defining the network with PyTorch\n",
    "\n",
    "Below is where you'll define the network.\n",
    "\n",
    "<img src=\"assets/charRNN.png\" width=500px>\n",
    "\n",
    "Next, you'll use PyTorch to define the architecture of the network. We start by defining the layers and operations we want. Then, define a method for the forward pass. You've also been given a method for predicting characters."
   ]
  },
  {
   "cell_type": "markdown",
   "metadata": {
    "colab_type": "text",
    "id": "ArZL3wC1YGNP"
   },
   "source": [
    "### Model Structure\n",
    "\n",
    "In `__init__` the suggested structure is as follows:\n",
    "* Create and store the necessary dictionaries (this has been done for you)\n",
    "* Define an LSTM layer that takes as params: an input size (the number of characters), a hidden layer size `n_hidden`, a number of layers `n_layers`, a dropout probability `drop_prob`, and a batch_first boolean (True, since we are batching)\n",
    "* Define a dropout layer with `dropout_prob`\n",
    "* Define a fully-connected layer with params: input size `n_hidden` and output size (the number of characters)\n",
    "* Finally, initialize the weights (again, this has been given)\n",
    "\n",
    "Note that some parameters have been named and given in the `__init__` function, and we use them and store them by doing something like `self.drop_prob = drop_prob`."
   ]
  },
  {
   "cell_type": "markdown",
   "metadata": {
    "colab_type": "text",
    "id": "Mr3hrPSVYGNR"
   },
   "source": [
    "---\n",
    "### LSTM Inputs/Outputs\n",
    "\n",
    "You can create a basic [LSTM layer](https://pytorch.org/docs/stable/nn.html#lstm) as follows\n",
    "\n",
    "```python\n",
    "self.lstm = nn.LSTM(input_size, n_hidden, n_layers, \n",
    "                            dropout=drop_prob, batch_first=True)\n",
    "```\n",
    "\n",
    "where `input_size` is the number of characters this cell expects to see as sequential input, and `n_hidden` is the number of units in the hidden layers in the cell. And we can add dropout by adding a dropout parameter with a specified probability; this will automatically add dropout to the inputs or outputs. Finally, in the `forward` function, we can stack up the LSTM cells into layers using `.view`. With this, you pass in a list of cells and it will send the output of one cell into the next cell.\n",
    "\n",
    "We also need to create an initial hidden state of all zeros. This is done like so\n",
    "\n",
    "```python\n",
    "self.init_hidden()\n",
    "```"
   ]
  },
  {
   "cell_type": "code",
   "execution_count": 40,
   "metadata": {
    "colab": {
     "base_uri": "https://localhost:8080/",
     "height": 34
    },
    "colab_type": "code",
    "id": "45FuiQicYGNS",
    "outputId": "16b28402-85fb-4e1c-9c25-521050b75382"
   },
   "outputs": [
    {
     "name": "stdout",
     "output_type": "stream",
     "text": [
      "Training on GPU!\n"
     ]
    }
   ],
   "source": [
    "# check if GPU is available\n",
    "train_on_gpu = torch.cuda.is_available()\n",
    "if(train_on_gpu):\n",
    "    print('Training on GPU!')\n",
    "else: \n",
    "    print('No GPU available, training on CPU; consider making n_epochs very small.')"
   ]
  },
  {
   "cell_type": "code",
   "execution_count": 0,
   "metadata": {
    "colab": {},
    "colab_type": "code",
    "id": "49B3YJi9YGNZ"
   },
   "outputs": [],
   "source": [
    "class CharRNN(nn.Module):\n",
    "    \n",
    "    def __init__(self, tokens, n_hidden=256, n_layers=2,\n",
    "                               drop_prob=0.5, lr=0.001):\n",
    "        super().__init__()\n",
    "        self.drop_prob = drop_prob\n",
    "        self.n_layers = n_layers\n",
    "        self.n_hidden = n_hidden\n",
    "        self.lr = lr\n",
    "        \n",
    "        # creating character dictionaries\n",
    "        self.chars = tokens\n",
    "        self.int2char = dict(enumerate(self.chars))\n",
    "        self.char2int = {ch: ii for ii, ch in self.int2char.items()}\n",
    "        \n",
    "        ## TODO: define the LSTM\n",
    "        self.lstm = nn.LSTM(len(self.chars), n_hidden, n_layers, \n",
    "                            dropout=drop_prob, batch_first=True)\n",
    "        \n",
    "        ## TODO: define a dropout layer\n",
    "        self.dropout = nn.Dropout(drop_prob)\n",
    "        \n",
    "        ## TODO: define the final, fully-connected output layer\n",
    "        self.fc = nn.Linear(n_hidden, len(self.chars))\n",
    "      \n",
    "    \n",
    "    def forward(self, x, hidden):\n",
    "        ''' Forward pass through the network. \n",
    "            These inputs are x, and the hidden/cell state `hidden`. '''\n",
    "                \n",
    "        ## TODO: Get the outputs and the new hidden state from the lstm\n",
    "        r_output, hidden = self.lstm(x, hidden)\n",
    "        \n",
    "        ## TODO: pass through a dropout layer\n",
    "        out = self.dropout(r_output)\n",
    "        \n",
    "        # Stack up LSTM outputs using view\n",
    "        # you may need to use contiguous to reshape the output\n",
    "        out = out.contiguous().view(-1, self.n_hidden)\n",
    "        \n",
    "        ## TODO: put x through the fully-connected layer\n",
    "        out = self.fc(out)\n",
    "        \n",
    "        # return the final output and the hidden state\n",
    "        return out, hidden\n",
    "    \n",
    "    \n",
    "    def init_hidden(self, batch_size):\n",
    "        ''' Initializes hidden state '''\n",
    "        # Create two new tensors with sizes n_layers x batch_size x n_hidden,\n",
    "        # initialized to zero, for hidden state and cell state of LSTM\n",
    "        weight = next(self.parameters()).data\n",
    "        \n",
    "        if (train_on_gpu):\n",
    "            hidden = (weight.new(self.n_layers, batch_size, self.n_hidden).zero_().cuda(),\n",
    "                  weight.new(self.n_layers, batch_size, self.n_hidden).zero_().cuda())\n",
    "        else:\n",
    "            hidden = (weight.new(self.n_layers, batch_size, self.n_hidden).zero_(),\n",
    "                      weight.new(self.n_layers, batch_size, self.n_hidden).zero_())\n",
    "        \n",
    "        return hidden"
   ]
  },
  {
   "cell_type": "markdown",
   "metadata": {
    "colab_type": "text",
    "id": "bTWex7DAYGNf"
   },
   "source": [
    "## Time to train\n",
    "\n",
    "The train function gives us the ability to set the number of epochs, the learning rate, and other parameters.\n",
    "\n",
    "Below we're using an Adam optimizer and cross entropy loss since we are looking at character class scores as output. We calculate the loss and perform backpropagation, as usual!\n",
    "\n",
    "A couple of details about training: \n",
    ">* Within the batch loop, we detach the hidden state from its history; this time setting it equal to a new *tuple* variable because an LSTM has a hidden state that is a tuple of the hidden and cell states.\n",
    "* We use [`clip_grad_norm_`](https://pytorch.org/docs/stable/_modules/torch/nn/utils/clip_grad.html) to help prevent exploding gradients."
   ]
  },
  {
   "cell_type": "code",
   "execution_count": 0,
   "metadata": {
    "colab": {},
    "colab_type": "code",
    "id": "_htJ8VU7YGNi"
   },
   "outputs": [],
   "source": [
    "def train(net, data, epochs=10, batch_size=10, seq_length=50, lr=0.001, clip=5, val_frac=0.1, print_every=10):\n",
    "    ''' Training a network \n",
    "    \n",
    "        Arguments\n",
    "        ---------\n",
    "        \n",
    "        net: CharRNN network\n",
    "        data: text data to train the network\n",
    "        epochs: Number of epochs to train\n",
    "        batch_size: Number of mini-sequences per mini-batch, aka batch size\n",
    "        seq_length: Number of character steps per mini-batch\n",
    "        lr: learning rate\n",
    "        clip: gradient clipping\n",
    "        val_frac: Fraction of data to hold out for validation\n",
    "        print_every: Number of steps for printing training and validation loss\n",
    "    \n",
    "    '''\n",
    "    net.train()\n",
    "    \n",
    "    opt = torch.optim.Adam(net.parameters(), lr=lr)\n",
    "    criterion = nn.CrossEntropyLoss()\n",
    "    \n",
    "    # create training and validation data\n",
    "    val_idx = int(len(data)*(1-val_frac))\n",
    "    data, val_data = data[:val_idx], data[val_idx:]\n",
    "    \n",
    "    if(train_on_gpu):\n",
    "        net.cuda()\n",
    "    \n",
    "    counter = 0\n",
    "    n_chars = len(net.chars)\n",
    "    for e in range(epochs):\n",
    "        # initialize hidden state\n",
    "        h = net.init_hidden(batch_size)\n",
    "        \n",
    "        for x, y in get_batches(data, batch_size, seq_length):\n",
    "            counter += 1\n",
    "            \n",
    "            # One-hot encode our data and make them Torch tensors\n",
    "            x = one_hot_encode(x, n_chars)\n",
    "            inputs, targets = torch.from_numpy(x), torch.from_numpy(y)\n",
    "            \n",
    "            if(train_on_gpu):\n",
    "                inputs, targets = inputs.cuda(), targets.cuda()\n",
    "\n",
    "            # Creating new variables for the hidden state, otherwise\n",
    "            # we'd backprop through the entire training history\n",
    "            h = tuple([each.data for each in h])\n",
    "\n",
    "            # zero accumulated gradients\n",
    "            net.zero_grad()\n",
    "            \n",
    "            # get the output from the model\n",
    "            output, h = net(inputs, h)\n",
    "            \n",
    "            # calculate the loss and perform backprop\n",
    "            loss = criterion(output, targets.view(batch_size*seq_length))\n",
    "            loss.backward()\n",
    "            # `clip_grad_norm` helps prevent the exploding gradient problem in RNNs / LSTMs.\n",
    "            nn.utils.clip_grad_norm_(net.parameters(), clip)\n",
    "            opt.step()\n",
    "            \n",
    "            # loss stats\n",
    "            if counter % print_every == 0:\n",
    "                # Get validation loss\n",
    "                val_h = net.init_hidden(batch_size)\n",
    "                val_losses = []\n",
    "                net.eval()\n",
    "                for x, y in get_batches(val_data, batch_size, seq_length):\n",
    "                    # One-hot encode our data and make them Torch tensors\n",
    "                    x = one_hot_encode(x, n_chars)\n",
    "                    x, y = torch.from_numpy(x), torch.from_numpy(y)\n",
    "                    \n",
    "                    # Creating new variables for the hidden state, otherwise\n",
    "                    # we'd backprop through the entire training history\n",
    "                    val_h = tuple([each.data for each in val_h])\n",
    "                    \n",
    "                    inputs, targets = x, y\n",
    "                    if(train_on_gpu):\n",
    "                        inputs, targets = inputs.cuda(), targets.cuda()\n",
    "\n",
    "                    output, val_h = net(inputs, val_h)\n",
    "                    val_loss = criterion(output, targets.view(batch_size*seq_length))\n",
    "                \n",
    "                    val_losses.append(val_loss.item())\n",
    "                \n",
    "                net.train() # reset to train mode after iterationg through validation data\n",
    "                \n",
    "                print(\"Epoch: {}/{}...\".format(e+1, epochs),\n",
    "                      \"Step: {}...\".format(counter),\n",
    "                      \"Loss: {:.4f}...\".format(loss.item()),\n",
    "                      \"Val Loss: {:.4f}\".format(np.mean(val_losses)))"
   ]
  },
  {
   "cell_type": "markdown",
   "metadata": {
    "colab_type": "text",
    "id": "W0-h_BQxYGNs"
   },
   "source": [
    "## Instantiating the model\n",
    "\n",
    "Now we can actually train the network. First we'll create the network itself, with some given hyperparameters. Then, define the mini-batches sizes, and start training!"
   ]
  },
  {
   "cell_type": "code",
   "execution_count": 43,
   "metadata": {
    "colab": {
     "base_uri": "https://localhost:8080/",
     "height": 102
    },
    "colab_type": "code",
    "id": "pwTFlaSCYGNu",
    "outputId": "cc4a0c9b-b342-49aa-8409-bfbad4ce1ec0"
   },
   "outputs": [
    {
     "name": "stdout",
     "output_type": "stream",
     "text": [
      "CharRNN(\n",
      "  (lstm): LSTM(83, 512, num_layers=2, batch_first=True, dropout=0.5)\n",
      "  (dropout): Dropout(p=0.5)\n",
      "  (fc): Linear(in_features=512, out_features=83, bias=True)\n",
      ")\n"
     ]
    }
   ],
   "source": [
    "# define and print the net\n",
    "n_hidden=512\n",
    "n_layers=2\n",
    "\n",
    "net = CharRNN(chars, n_hidden, n_layers)\n",
    "print(net)"
   ]
  },
  {
   "cell_type": "markdown",
   "metadata": {
    "colab_type": "text",
    "id": "urAXCSmEYGN4"
   },
   "source": [
    "### Set your training hyperparameters!"
   ]
  },
  {
   "cell_type": "code",
   "execution_count": 44,
   "metadata": {
    "colab": {
     "base_uri": "https://localhost:8080/",
     "height": 4743
    },
    "colab_type": "code",
    "id": "_7OD1z3OYGN4",
    "outputId": "021cce81-0cc4-4874-a356-5f3361213a80",
    "scrolled": true
   },
   "outputs": [
    {
     "name": "stdout",
     "output_type": "stream",
     "text": [
      "Epoch: 1/20... Step: 10... Loss: 3.2621... Val Loss: 3.1814\n",
      "Epoch: 1/20... Step: 20... Loss: 3.1404... Val Loss: 3.1286\n",
      "Epoch: 1/20... Step: 30... Loss: 3.1391... Val Loss: 3.1211\n",
      "Epoch: 1/20... Step: 40... Loss: 3.1150... Val Loss: 3.1194\n",
      "Epoch: 1/20... Step: 50... Loss: 3.1402... Val Loss: 3.1167\n",
      "Epoch: 1/20... Step: 60... Loss: 3.1144... Val Loss: 3.1143\n",
      "Epoch: 1/20... Step: 70... Loss: 3.1075... Val Loss: 3.1109\n",
      "Epoch: 1/20... Step: 80... Loss: 3.1138... Val Loss: 3.1024\n",
      "Epoch: 1/20... Step: 90... Loss: 3.1020... Val Loss: 3.0832\n",
      "Epoch: 1/20... Step: 100... Loss: 3.0535... Val Loss: 3.0402\n",
      "Epoch: 1/20... Step: 110... Loss: 2.9787... Val Loss: 2.9541\n",
      "Epoch: 1/20... Step: 120... Loss: 2.8572... Val Loss: 2.8542\n",
      "Epoch: 1/20... Step: 130... Loss: 2.8071... Val Loss: 2.7533\n",
      "Epoch: 2/20... Step: 140... Loss: 2.6934... Val Loss: 2.6488\n",
      "Epoch: 2/20... Step: 150... Loss: 2.6090... Val Loss: 2.5525\n",
      "Epoch: 2/20... Step: 160... Loss: 2.5238... Val Loss: 2.4916\n",
      "Epoch: 2/20... Step: 170... Loss: 2.4590... Val Loss: 2.4419\n",
      "Epoch: 2/20... Step: 180... Loss: 2.4394... Val Loss: 2.4088\n",
      "Epoch: 2/20... Step: 190... Loss: 2.3928... Val Loss: 2.3768\n",
      "Epoch: 2/20... Step: 200... Loss: 2.3743... Val Loss: 2.3490\n",
      "Epoch: 2/20... Step: 210... Loss: 2.3419... Val Loss: 2.3186\n",
      "Epoch: 2/20... Step: 220... Loss: 2.3053... Val Loss: 2.2898\n",
      "Epoch: 2/20... Step: 230... Loss: 2.2937... Val Loss: 2.2828\n",
      "Epoch: 2/20... Step: 240... Loss: 2.2889... Val Loss: 2.2481\n",
      "Epoch: 2/20... Step: 250... Loss: 2.2163... Val Loss: 2.2183\n",
      "Epoch: 2/20... Step: 260... Loss: 2.1947... Val Loss: 2.1935\n",
      "Epoch: 2/20... Step: 270... Loss: 2.1979... Val Loss: 2.1729\n",
      "Epoch: 3/20... Step: 280... Loss: 2.1994... Val Loss: 2.1497\n",
      "Epoch: 3/20... Step: 290... Loss: 2.1627... Val Loss: 2.1278\n",
      "Epoch: 3/20... Step: 300... Loss: 2.1367... Val Loss: 2.1071\n",
      "Epoch: 3/20... Step: 310... Loss: 2.1057... Val Loss: 2.0892\n",
      "Epoch: 3/20... Step: 320... Loss: 2.0845... Val Loss: 2.0686\n",
      "Epoch: 3/20... Step: 330... Loss: 2.0559... Val Loss: 2.0548\n",
      "Epoch: 3/20... Step: 340... Loss: 2.0776... Val Loss: 2.0376\n",
      "Epoch: 3/20... Step: 350... Loss: 2.0667... Val Loss: 2.0190\n",
      "Epoch: 3/20... Step: 360... Loss: 1.9841... Val Loss: 2.0001\n",
      "Epoch: 3/20... Step: 370... Loss: 2.0180... Val Loss: 1.9839\n",
      "Epoch: 3/20... Step: 380... Loss: 1.9940... Val Loss: 1.9728\n",
      "Epoch: 3/20... Step: 390... Loss: 1.9679... Val Loss: 1.9575\n",
      "Epoch: 3/20... Step: 400... Loss: 1.9446... Val Loss: 1.9404\n",
      "Epoch: 3/20... Step: 410... Loss: 1.9528... Val Loss: 1.9250\n",
      "Epoch: 4/20... Step: 420... Loss: 1.9486... Val Loss: 1.9128\n",
      "Epoch: 4/20... Step: 430... Loss: 1.9266... Val Loss: 1.8941\n",
      "Epoch: 4/20... Step: 440... Loss: 1.9151... Val Loss: 1.8832\n",
      "Epoch: 4/20... Step: 450... Loss: 1.8532... Val Loss: 1.8681\n",
      "Epoch: 4/20... Step: 460... Loss: 1.8470... Val Loss: 1.8621\n",
      "Epoch: 4/20... Step: 470... Loss: 1.8802... Val Loss: 1.8521\n",
      "Epoch: 4/20... Step: 480... Loss: 1.8630... Val Loss: 1.8387\n",
      "Epoch: 4/20... Step: 490... Loss: 1.8669... Val Loss: 1.8248\n",
      "Epoch: 4/20... Step: 500... Loss: 1.8584... Val Loss: 1.8163\n",
      "Epoch: 4/20... Step: 510... Loss: 1.8373... Val Loss: 1.8070\n",
      "Epoch: 4/20... Step: 520... Loss: 1.8430... Val Loss: 1.7937\n",
      "Epoch: 4/20... Step: 530... Loss: 1.7971... Val Loss: 1.7883\n",
      "Epoch: 4/20... Step: 540... Loss: 1.7633... Val Loss: 1.7720\n",
      "Epoch: 4/20... Step: 550... Loss: 1.8009... Val Loss: 1.7600\n",
      "Epoch: 5/20... Step: 560... Loss: 1.7761... Val Loss: 1.7527\n",
      "Epoch: 5/20... Step: 570... Loss: 1.7645... Val Loss: 1.7439\n",
      "Epoch: 5/20... Step: 580... Loss: 1.7451... Val Loss: 1.7336\n",
      "Epoch: 5/20... Step: 590... Loss: 1.7520... Val Loss: 1.7225\n",
      "Epoch: 5/20... Step: 600... Loss: 1.7295... Val Loss: 1.7185\n",
      "Epoch: 5/20... Step: 610... Loss: 1.7147... Val Loss: 1.7099\n",
      "Epoch: 5/20... Step: 620... Loss: 1.7222... Val Loss: 1.7024\n",
      "Epoch: 5/20... Step: 630... Loss: 1.7391... Val Loss: 1.6967\n",
      "Epoch: 5/20... Step: 640... Loss: 1.7026... Val Loss: 1.6885\n",
      "Epoch: 5/20... Step: 650... Loss: 1.6879... Val Loss: 1.6821\n",
      "Epoch: 5/20... Step: 660... Loss: 1.6620... Val Loss: 1.6731\n",
      "Epoch: 5/20... Step: 670... Loss: 1.6990... Val Loss: 1.6674\n",
      "Epoch: 5/20... Step: 680... Loss: 1.6921... Val Loss: 1.6590\n",
      "Epoch: 5/20... Step: 690... Loss: 1.6751... Val Loss: 1.6544\n",
      "Epoch: 6/20... Step: 700... Loss: 1.6536... Val Loss: 1.6508\n",
      "Epoch: 6/20... Step: 710... Loss: 1.6528... Val Loss: 1.6397\n",
      "Epoch: 6/20... Step: 720... Loss: 1.6372... Val Loss: 1.6341\n",
      "Epoch: 6/20... Step: 730... Loss: 1.6476... Val Loss: 1.6257\n",
      "Epoch: 6/20... Step: 740... Loss: 1.6234... Val Loss: 1.6224\n",
      "Epoch: 6/20... Step: 750... Loss: 1.5973... Val Loss: 1.6197\n",
      "Epoch: 6/20... Step: 760... Loss: 1.6388... Val Loss: 1.6128\n",
      "Epoch: 6/20... Step: 770... Loss: 1.6236... Val Loss: 1.6101\n",
      "Epoch: 6/20... Step: 780... Loss: 1.6098... Val Loss: 1.5997\n",
      "Epoch: 6/20... Step: 790... Loss: 1.5923... Val Loss: 1.5955\n",
      "Epoch: 6/20... Step: 800... Loss: 1.6140... Val Loss: 1.5942\n",
      "Epoch: 6/20... Step: 810... Loss: 1.5974... Val Loss: 1.5868\n",
      "Epoch: 6/20... Step: 820... Loss: 1.5608... Val Loss: 1.5855\n",
      "Epoch: 6/20... Step: 830... Loss: 1.5970... Val Loss: 1.5758\n",
      "Epoch: 7/20... Step: 840... Loss: 1.5647... Val Loss: 1.5716\n",
      "Epoch: 7/20... Step: 850... Loss: 1.5666... Val Loss: 1.5676\n",
      "Epoch: 7/20... Step: 860... Loss: 1.5608... Val Loss: 1.5631\n",
      "Epoch: 7/20... Step: 870... Loss: 1.5705... Val Loss: 1.5569\n",
      "Epoch: 7/20... Step: 880... Loss: 1.5700... Val Loss: 1.5538\n",
      "Epoch: 7/20... Step: 890... Loss: 1.5657... Val Loss: 1.5520\n",
      "Epoch: 7/20... Step: 900... Loss: 1.5456... Val Loss: 1.5466\n",
      "Epoch: 7/20... Step: 910... Loss: 1.5229... Val Loss: 1.5449\n",
      "Epoch: 7/20... Step: 920... Loss: 1.5387... Val Loss: 1.5416\n",
      "Epoch: 7/20... Step: 930... Loss: 1.5303... Val Loss: 1.5356\n",
      "Epoch: 7/20... Step: 940... Loss: 1.5302... Val Loss: 1.5311\n",
      "Epoch: 7/20... Step: 950... Loss: 1.5418... Val Loss: 1.5224\n",
      "Epoch: 7/20... Step: 960... Loss: 1.5444... Val Loss: 1.5214\n",
      "Epoch: 7/20... Step: 970... Loss: 1.5369... Val Loss: 1.5175\n",
      "Epoch: 8/20... Step: 980... Loss: 1.5133... Val Loss: 1.5143\n",
      "Epoch: 8/20... Step: 990... Loss: 1.5181... Val Loss: 1.5096\n",
      "Epoch: 8/20... Step: 1000... Loss: 1.5036... Val Loss: 1.5053\n",
      "Epoch: 8/20... Step: 1010... Loss: 1.5418... Val Loss: 1.5036\n",
      "Epoch: 8/20... Step: 1020... Loss: 1.5167... Val Loss: 1.4997\n",
      "Epoch: 8/20... Step: 1030... Loss: 1.4874... Val Loss: 1.4968\n",
      "Epoch: 8/20... Step: 1040... Loss: 1.5060... Val Loss: 1.4934\n",
      "Epoch: 8/20... Step: 1050... Loss: 1.4817... Val Loss: 1.4899\n",
      "Epoch: 8/20... Step: 1060... Loss: 1.4824... Val Loss: 1.4905\n",
      "Epoch: 8/20... Step: 1070... Loss: 1.4927... Val Loss: 1.4840\n",
      "Epoch: 8/20... Step: 1080... Loss: 1.4926... Val Loss: 1.4815\n",
      "Epoch: 8/20... Step: 1090... Loss: 1.4653... Val Loss: 1.4801\n",
      "Epoch: 8/20... Step: 1100... Loss: 1.4655... Val Loss: 1.4721\n",
      "Epoch: 8/20... Step: 1110... Loss: 1.4707... Val Loss: 1.4735\n",
      "Epoch: 9/20... Step: 1120... Loss: 1.4791... Val Loss: 1.4731\n",
      "Epoch: 9/20... Step: 1130... Loss: 1.4863... Val Loss: 1.4646\n",
      "Epoch: 9/20... Step: 1140... Loss: 1.4784... Val Loss: 1.4613\n",
      "Epoch: 9/20... Step: 1150... Loss: 1.4915... Val Loss: 1.4607\n",
      "Epoch: 9/20... Step: 1160... Loss: 1.4529... Val Loss: 1.4567\n",
      "Epoch: 9/20... Step: 1170... Loss: 1.4551... Val Loss: 1.4588\n",
      "Epoch: 9/20... Step: 1180... Loss: 1.4496... Val Loss: 1.4576\n",
      "Epoch: 9/20... Step: 1190... Loss: 1.4780... Val Loss: 1.4539\n",
      "Epoch: 9/20... Step: 1200... Loss: 1.4292... Val Loss: 1.4474\n",
      "Epoch: 9/20... Step: 1210... Loss: 1.4261... Val Loss: 1.4475\n",
      "Epoch: 9/20... Step: 1220... Loss: 1.4419... Val Loss: 1.4426\n",
      "Epoch: 9/20... Step: 1230... Loss: 1.4251... Val Loss: 1.4435\n",
      "Epoch: 9/20... Step: 1240... Loss: 1.4299... Val Loss: 1.4380\n",
      "Epoch: 9/20... Step: 1250... Loss: 1.4324... Val Loss: 1.4381\n",
      "Epoch: 10/20... Step: 1260... Loss: 1.4426... Val Loss: 1.4407\n",
      "Epoch: 10/20... Step: 1270... Loss: 1.4286... Val Loss: 1.4365\n",
      "Epoch: 10/20... Step: 1280... Loss: 1.4430... Val Loss: 1.4311\n",
      "Epoch: 10/20... Step: 1290... Loss: 1.4344... Val Loss: 1.4324\n",
      "Epoch: 10/20... Step: 1300... Loss: 1.4268... Val Loss: 1.4285\n",
      "Epoch: 10/20... Step: 1310... Loss: 1.4316... Val Loss: 1.4268\n",
      "Epoch: 10/20... Step: 1320... Loss: 1.3930... Val Loss: 1.4247\n",
      "Epoch: 10/20... Step: 1330... Loss: 1.4130... Val Loss: 1.4277\n",
      "Epoch: 10/20... Step: 1340... Loss: 1.3881... Val Loss: 1.4207\n",
      "Epoch: 10/20... Step: 1350... Loss: 1.3898... Val Loss: 1.4186\n",
      "Epoch: 10/20... Step: 1360... Loss: 1.3913... Val Loss: 1.4168\n",
      "Epoch: 10/20... Step: 1370... Loss: 1.3852... Val Loss: 1.4166\n",
      "Epoch: 10/20... Step: 1380... Loss: 1.4241... Val Loss: 1.4135\n",
      "Epoch: 10/20... Step: 1390... Loss: 1.4189... Val Loss: 1.4110\n",
      "Epoch: 11/20... Step: 1400... Loss: 1.4291... Val Loss: 1.4115\n",
      "Epoch: 11/20... Step: 1410... Loss: 1.4397... Val Loss: 1.4072\n",
      "Epoch: 11/20... Step: 1420... Loss: 1.4201... Val Loss: 1.4022\n",
      "Epoch: 11/20... Step: 1430... Loss: 1.3958... Val Loss: 1.4070\n",
      "Epoch: 11/20... Step: 1440... Loss: 1.4216... Val Loss: 1.4020\n",
      "Epoch: 11/20... Step: 1450... Loss: 1.3548... Val Loss: 1.3980\n",
      "Epoch: 11/20... Step: 1460... Loss: 1.3697... Val Loss: 1.4015\n",
      "Epoch: 11/20... Step: 1470... Loss: 1.3657... Val Loss: 1.3984\n",
      "Epoch: 11/20... Step: 1480... Loss: 1.3888... Val Loss: 1.3943\n",
      "Epoch: 11/20... Step: 1490... Loss: 1.3742... Val Loss: 1.3947\n",
      "Epoch: 11/20... Step: 1500... Loss: 1.3652... Val Loss: 1.3930\n",
      "Epoch: 11/20... Step: 1510... Loss: 1.3438... Val Loss: 1.3950\n",
      "Epoch: 11/20... Step: 1520... Loss: 1.3823... Val Loss: 1.3896\n",
      "Epoch: 12/20... Step: 1530... Loss: 1.4376... Val Loss: 1.3901\n",
      "Epoch: 12/20... Step: 1540... Loss: 1.3860... Val Loss: 1.3876\n",
      "Epoch: 12/20... Step: 1550... Loss: 1.3944... Val Loss: 1.3845\n",
      "Epoch: 12/20... Step: 1560... Loss: 1.4059... Val Loss: 1.3822\n",
      "Epoch: 12/20... Step: 1570... Loss: 1.3425... Val Loss: 1.3847\n",
      "Epoch: 12/20... Step: 1580... Loss: 1.3266... Val Loss: 1.3802\n",
      "Epoch: 12/20... Step: 1590... Loss: 1.3215... Val Loss: 1.3817\n",
      "Epoch: 12/20... Step: 1600... Loss: 1.3542... Val Loss: 1.3795\n",
      "Epoch: 12/20... Step: 1610... Loss: 1.3424... Val Loss: 1.3812\n",
      "Epoch: 12/20... Step: 1620... Loss: 1.3317... Val Loss: 1.3749\n",
      "Epoch: 12/20... Step: 1630... Loss: 1.3699... Val Loss: 1.3760\n",
      "Epoch: 12/20... Step: 1640... Loss: 1.3414... Val Loss: 1.3735\n",
      "Epoch: 12/20... Step: 1650... Loss: 1.3136... Val Loss: 1.3771\n",
      "Epoch: 12/20... Step: 1660... Loss: 1.3775... Val Loss: 1.3747\n",
      "Epoch: 13/20... Step: 1670... Loss: 1.3401... Val Loss: 1.3727\n",
      "Epoch: 13/20... Step: 1680... Loss: 1.3513... Val Loss: 1.3684\n",
      "Epoch: 13/20... Step: 1690... Loss: 1.3363... Val Loss: 1.3655\n",
      "Epoch: 13/20... Step: 1700... Loss: 1.3366... Val Loss: 1.3632\n",
      "Epoch: 13/20... Step: 1710... Loss: 1.3087... Val Loss: 1.3665\n",
      "Epoch: 13/20... Step: 1720... Loss: 1.3253... Val Loss: 1.3648\n",
      "Epoch: 13/20... Step: 1730... Loss: 1.3549... Val Loss: 1.3614\n",
      "Epoch: 13/20... Step: 1740... Loss: 1.3337... Val Loss: 1.3656\n",
      "Epoch: 13/20... Step: 1750... Loss: 1.2980... Val Loss: 1.3657\n",
      "Epoch: 13/20... Step: 1760... Loss: 1.3211... Val Loss: 1.3619\n",
      "Epoch: 13/20... Step: 1770... Loss: 1.3459... Val Loss: 1.3595\n",
      "Epoch: 13/20... Step: 1780... Loss: 1.3141... Val Loss: 1.3626\n",
      "Epoch: 13/20... Step: 1790... Loss: 1.3064... Val Loss: 1.3612\n",
      "Epoch: 13/20... Step: 1800... Loss: 1.3287... Val Loss: 1.3577\n",
      "Epoch: 14/20... Step: 1810... Loss: 1.3353... Val Loss: 1.3657\n",
      "Epoch: 14/20... Step: 1820... Loss: 1.3233... Val Loss: 1.3494\n",
      "Epoch: 14/20... Step: 1830... Loss: 1.3360... Val Loss: 1.3505\n",
      "Epoch: 14/20... Step: 1840... Loss: 1.2942... Val Loss: 1.3531\n",
      "Epoch: 14/20... Step: 1850... Loss: 1.2665... Val Loss: 1.3529\n",
      "Epoch: 14/20... Step: 1860... Loss: 1.3263... Val Loss: 1.3492\n",
      "Epoch: 14/20... Step: 1870... Loss: 1.3318... Val Loss: 1.3479\n",
      "Epoch: 14/20... Step: 1880... Loss: 1.3200... Val Loss: 1.3520\n",
      "Epoch: 14/20... Step: 1890... Loss: 1.3351... Val Loss: 1.3493\n",
      "Epoch: 14/20... Step: 1900... Loss: 1.3126... Val Loss: 1.3463\n",
      "Epoch: 14/20... Step: 1910... Loss: 1.3116... Val Loss: 1.3495\n",
      "Epoch: 14/20... Step: 1920... Loss: 1.3134... Val Loss: 1.3484\n",
      "Epoch: 14/20... Step: 1930... Loss: 1.2821... Val Loss: 1.3493\n",
      "Epoch: 14/20... Step: 1940... Loss: 1.3318... Val Loss: 1.3471\n",
      "Epoch: 15/20... Step: 1950... Loss: 1.3056... Val Loss: 1.3505\n",
      "Epoch: 15/20... Step: 1960... Loss: 1.3077... Val Loss: 1.3415\n",
      "Epoch: 15/20... Step: 1970... Loss: 1.2933... Val Loss: 1.3402\n",
      "Epoch: 15/20... Step: 1980... Loss: 1.2892... Val Loss: 1.3461\n",
      "Epoch: 15/20... Step: 1990... Loss: 1.2944... Val Loss: 1.3407\n",
      "Epoch: 15/20... Step: 2000... Loss: 1.2720... Val Loss: 1.3378\n",
      "Epoch: 15/20... Step: 2010... Loss: 1.2967... Val Loss: 1.3385\n",
      "Epoch: 15/20... Step: 2020... Loss: 1.3171... Val Loss: 1.3408\n",
      "Epoch: 15/20... Step: 2030... Loss: 1.2845... Val Loss: 1.3393\n",
      "Epoch: 15/20... Step: 2040... Loss: 1.2956... Val Loss: 1.3366\n",
      "Epoch: 15/20... Step: 2050... Loss: 1.2880... Val Loss: 1.3379\n",
      "Epoch: 15/20... Step: 2060... Loss: 1.2867... Val Loss: 1.3344\n",
      "Epoch: 15/20... Step: 2070... Loss: 1.3057... Val Loss: 1.3354\n",
      "Epoch: 15/20... Step: 2080... Loss: 1.2847... Val Loss: 1.3361\n",
      "Epoch: 16/20... Step: 2090... Loss: 1.3050... Val Loss: 1.3422\n",
      "Epoch: 16/20... Step: 2100... Loss: 1.2794... Val Loss: 1.3312\n",
      "Epoch: 16/20... Step: 2110... Loss: 1.2760... Val Loss: 1.3296\n",
      "Epoch: 16/20... Step: 2120... Loss: 1.2963... Val Loss: 1.3317\n",
      "Epoch: 16/20... Step: 2130... Loss: 1.2687... Val Loss: 1.3300\n",
      "Epoch: 16/20... Step: 2140... Loss: 1.2685... Val Loss: 1.3274\n",
      "Epoch: 16/20... Step: 2150... Loss: 1.3028... Val Loss: 1.3270\n",
      "Epoch: 16/20... Step: 2160... Loss: 1.2817... Val Loss: 1.3299\n",
      "Epoch: 16/20... Step: 2170... Loss: 1.2799... Val Loss: 1.3293\n",
      "Epoch: 16/20... Step: 2180... Loss: 1.2660... Val Loss: 1.3270\n",
      "Epoch: 16/20... Step: 2190... Loss: 1.2860... Val Loss: 1.3283\n",
      "Epoch: 16/20... Step: 2200... Loss: 1.2644... Val Loss: 1.3246\n",
      "Epoch: 16/20... Step: 2210... Loss: 1.2352... Val Loss: 1.3259\n",
      "Epoch: 16/20... Step: 2220... Loss: 1.2737... Val Loss: 1.3239\n",
      "Epoch: 17/20... Step: 2230... Loss: 1.2519... Val Loss: 1.3308\n",
      "Epoch: 17/20... Step: 2240... Loss: 1.2723... Val Loss: 1.3220\n",
      "Epoch: 17/20... Step: 2250... Loss: 1.2466... Val Loss: 1.3196\n",
      "Epoch: 17/20... Step: 2260... Loss: 1.2625... Val Loss: 1.3242\n",
      "Epoch: 17/20... Step: 2270... Loss: 1.2675... Val Loss: 1.3234\n",
      "Epoch: 17/20... Step: 2280... Loss: 1.2785... Val Loss: 1.3182\n",
      "Epoch: 17/20... Step: 2290... Loss: 1.2716... Val Loss: 1.3205\n",
      "Epoch: 17/20... Step: 2300... Loss: 1.2379... Val Loss: 1.3221\n",
      "Epoch: 17/20... Step: 2310... Loss: 1.2639... Val Loss: 1.3190\n",
      "Epoch: 17/20... Step: 2320... Loss: 1.2507... Val Loss: 1.3202\n",
      "Epoch: 17/20... Step: 2330... Loss: 1.2535... Val Loss: 1.3191\n",
      "Epoch: 17/20... Step: 2340... Loss: 1.2638... Val Loss: 1.3160\n",
      "Epoch: 17/20... Step: 2350... Loss: 1.2767... Val Loss: 1.3156\n",
      "Epoch: 17/20... Step: 2360... Loss: 1.2819... Val Loss: 1.3160\n",
      "Epoch: 18/20... Step: 2370... Loss: 1.2459... Val Loss: 1.3180\n",
      "Epoch: 18/20... Step: 2380... Loss: 1.2511... Val Loss: 1.3142\n",
      "Epoch: 18/20... Step: 2390... Loss: 1.2544... Val Loss: 1.3144\n",
      "Epoch: 18/20... Step: 2400... Loss: 1.2837... Val Loss: 1.3134\n",
      "Epoch: 18/20... Step: 2410... Loss: 1.2712... Val Loss: 1.3142\n",
      "Epoch: 18/20... Step: 2420... Loss: 1.2392... Val Loss: 1.3105\n",
      "Epoch: 18/20... Step: 2430... Loss: 1.2628... Val Loss: 1.3123\n",
      "Epoch: 18/20... Step: 2440... Loss: 1.2438... Val Loss: 1.3129\n",
      "Epoch: 18/20... Step: 2450... Loss: 1.2415... Val Loss: 1.3111\n",
      "Epoch: 18/20... Step: 2460... Loss: 1.2522... Val Loss: 1.3094\n",
      "Epoch: 18/20... Step: 2470... Loss: 1.2506... Val Loss: 1.3076\n",
      "Epoch: 18/20... Step: 2480... Loss: 1.2337... Val Loss: 1.3086\n",
      "Epoch: 18/20... Step: 2490... Loss: 1.2370... Val Loss: 1.3083\n",
      "Epoch: 18/20... Step: 2500... Loss: 1.2390... Val Loss: 1.3100\n",
      "Epoch: 19/20... Step: 2510... Loss: 1.2348... Val Loss: 1.3131\n",
      "Epoch: 19/20... Step: 2520... Loss: 1.2576... Val Loss: 1.3102\n",
      "Epoch: 19/20... Step: 2530... Loss: 1.2553... Val Loss: 1.3047\n",
      "Epoch: 19/20... Step: 2540... Loss: 1.2853... Val Loss: 1.3078\n",
      "Epoch: 19/20... Step: 2550... Loss: 1.2374... Val Loss: 1.3067\n",
      "Epoch: 19/20... Step: 2560... Loss: 1.2553... Val Loss: 1.3028\n",
      "Epoch: 19/20... Step: 2570... Loss: 1.2322... Val Loss: 1.3076\n",
      "Epoch: 19/20... Step: 2580... Loss: 1.2692... Val Loss: 1.3056\n",
      "Epoch: 19/20... Step: 2590... Loss: 1.2287... Val Loss: 1.3026\n",
      "Epoch: 19/20... Step: 2600... Loss: 1.2204... Val Loss: 1.3045\n",
      "Epoch: 19/20... Step: 2610... Loss: 1.2410... Val Loss: 1.3001\n",
      "Epoch: 19/20... Step: 2620... Loss: 1.2167... Val Loss: 1.3018\n",
      "Epoch: 19/20... Step: 2630... Loss: 1.2334... Val Loss: 1.3014\n",
      "Epoch: 19/20... Step: 2640... Loss: 1.2372... Val Loss: 1.3017\n",
      "Epoch: 20/20... Step: 2650... Loss: 1.2360... Val Loss: 1.3024\n",
      "Epoch: 20/20... Step: 2660... Loss: 1.2505... Val Loss: 1.3027\n",
      "Epoch: 20/20... Step: 2670... Loss: 1.2527... Val Loss: 1.2983\n",
      "Epoch: 20/20... Step: 2680... Loss: 1.2399... Val Loss: 1.2980\n",
      "Epoch: 20/20... Step: 2690... Loss: 1.2375... Val Loss: 1.2984\n",
      "Epoch: 20/20... Step: 2700... Loss: 1.2384... Val Loss: 1.2950\n",
      "Epoch: 20/20... Step: 2710... Loss: 1.2083... Val Loss: 1.2973\n",
      "Epoch: 20/20... Step: 2720... Loss: 1.2102... Val Loss: 1.2968\n",
      "Epoch: 20/20... Step: 2730... Loss: 1.2061... Val Loss: 1.2956\n",
      "Epoch: 20/20... Step: 2740... Loss: 1.2039... Val Loss: 1.3012\n",
      "Epoch: 20/20... Step: 2750... Loss: 1.2161... Val Loss: 1.2977\n",
      "Epoch: 20/20... Step: 2760... Loss: 1.2024... Val Loss: 1.2968\n",
      "Epoch: 20/20... Step: 2770... Loss: 1.2482... Val Loss: 1.2963\n",
      "Epoch: 20/20... Step: 2780... Loss: 1.2760... Val Loss: 1.2967\n"
     ]
    }
   ],
   "source": [
    "batch_size = 128\n",
    "seq_length = 100\n",
    "n_epochs = 20 # start smaller if you are just testing initial behavior\n",
    "\n",
    "# train the model\n",
    "train(net, encoded, epochs=n_epochs, batch_size=batch_size, seq_length=seq_length, lr=0.001, print_every=10)"
   ]
  },
  {
   "cell_type": "markdown",
   "metadata": {
    "colab_type": "text",
    "id": "7wMiWqU9YGN-"
   },
   "source": [
    "## Getting the best model\n",
    "\n",
    "To set your hyperparameters to get the best performance, you'll want to watch the training and validation losses. If your training loss is much lower than the validation loss, you're overfitting. Increase regularization (more dropout) or use a smaller network. If the training and validation losses are close, you're underfitting so you can increase the size of the network."
   ]
  },
  {
   "cell_type": "markdown",
   "metadata": {
    "colab_type": "text",
    "id": "KeoNQ9FyYGN_"
   },
   "source": [
    "## Hyperparameters\n",
    "\n",
    "Here are the hyperparameters for the network.\n",
    "\n",
    "In defining the model:\n",
    "* `n_hidden` - The number of units in the hidden layers.\n",
    "* `n_layers` - Number of hidden LSTM layers to use.\n",
    "\n",
    "We assume that dropout probability and learning rate will be kept at the default, in this example.\n",
    "\n",
    "And in training:\n",
    "* `batch_size` - Number of sequences running through the network in one pass.\n",
    "* `seq_length` - Number of characters in the sequence the network is trained on. Larger is better typically, the network will learn more long range dependencies. But it takes longer to train. 100 is typically a good number here.\n",
    "* `lr` - Learning rate for training\n",
    "\n",
    "Here's some good advice from Andrej Karpathy on training the network. I'm going to copy it in here for your benefit, but also link to [where it originally came from](https://github.com/karpathy/char-rnn#tips-and-tricks).\n",
    "\n",
    "> ## Tips and Tricks\n",
    "\n",
    ">### Monitoring Validation Loss vs. Training Loss\n",
    ">If you're somewhat new to Machine Learning or Neural Networks it can take a bit of expertise to get good models. The most important quantity to keep track of is the difference between your training loss (printed during training) and the validation loss (printed once in a while when the RNN is run on the validation data (by default every 1000 iterations)). In particular:\n",
    "\n",
    "> - If your training loss is much lower than validation loss then this means the network might be **overfitting**. Solutions to this are to decrease your network size, or to increase dropout. For example you could try dropout of 0.5 and so on.\n",
    "> - If your training/validation loss are about equal then your model is **underfitting**. Increase the size of your model (either number of layers or the raw number of neurons per layer)\n",
    "\n",
    "> ### Approximate number of parameters\n",
    "\n",
    "> The two most important parameters that control the model are `n_hidden` and `n_layers`. I would advise that you always use `n_layers` of either 2/3. The `n_hidden` can be adjusted based on how much data you have. The two important quantities to keep track of here are:\n",
    "\n",
    "> - The number of parameters in your model. This is printed when you start training.\n",
    "> - The size of your dataset. 1MB file is approximately 1 million characters.\n",
    "\n",
    ">These two should be about the same order of magnitude. It's a little tricky to tell. Here are some examples:\n",
    "\n",
    "> - I have a 100MB dataset and I'm using the default parameter settings (which currently print 150K parameters). My data size is significantly larger (100 mil >> 0.15 mil), so I expect to heavily underfit. I am thinking I can comfortably afford to make `n_hidden` larger.\n",
    "> - I have a 10MB dataset and running a 10 million parameter model. I'm slightly nervous and I'm carefully monitoring my validation loss. If it's larger than my training loss then I may want to try to increase dropout a bit and see if that helps the validation loss.\n",
    "\n",
    "> ### Best models strategy\n",
    "\n",
    ">The winning strategy to obtaining very good models (if you have the compute time) is to always err on making the network larger (as large as you're willing to wait for it to compute) and then try different dropout values (between 0,1). Whatever model has the best validation performance (the loss, written in the checkpoint filename, low is good) is the one you should use in the end.\n",
    "\n",
    ">It is very common in deep learning to run many different models with many different hyperparameter settings, and in the end take whatever checkpoint gave the best validation performance.\n",
    "\n",
    ">By the way, the size of your training and validation splits are also parameters. Make sure you have a decent amount of data in your validation set or otherwise the validation performance will be noisy and not very informative."
   ]
  },
  {
   "cell_type": "markdown",
   "metadata": {
    "colab_type": "text",
    "id": "94WUumfoYGOA"
   },
   "source": [
    "## Checkpoint\n",
    "\n",
    "After training, we'll save the model so we can load it again later if we need too. Here I'm saving the parameters needed to create the same architecture, the hidden layer hyperparameters and the text characters."
   ]
  },
  {
   "cell_type": "code",
   "execution_count": 0,
   "metadata": {
    "colab": {},
    "colab_type": "code",
    "id": "1cQI0QuJYGOB"
   },
   "outputs": [],
   "source": [
    "# change the name, for saving multiple files\n",
    "model_name = 'rnn_x_epoch.net'\n",
    "\n",
    "checkpoint = {'n_hidden': net.n_hidden,\n",
    "              'n_layers': net.n_layers,\n",
    "              'state_dict': net.state_dict(),\n",
    "              'tokens': net.chars}\n",
    "\n",
    "with open(model_name, 'wb') as f:\n",
    "    torch.save(checkpoint, f)"
   ]
  },
  {
   "cell_type": "markdown",
   "metadata": {
    "colab_type": "text",
    "id": "ApXXVL31YGOI"
   },
   "source": [
    "---\n",
    "## Making Predictions\n",
    "\n",
    "Now that the model is trained, we'll want to sample from it and make predictions about next characters! To sample, we pass in a character and have the network predict the next character. Then we take that character, pass it back in, and get another predicted character. Just keep doing this and you'll generate a bunch of text!\n",
    "\n",
    "### A note on the `predict`  function\n",
    "\n",
    "The output of our RNN is from a fully-connected layer and it outputs a **distribution of next-character scores**.\n",
    "\n",
    "> To actually get the next character, we apply a softmax function, which gives us a *probability* distribution that we can then sample to predict the next character.\n",
    "\n",
    "### Top K sampling\n",
    "\n",
    "Our predictions come from a categorical probability distribution over all the possible characters. We can make the sample text and make it more reasonable to handle (with less variables) by only considering some $K$ most probable characters. This will prevent the network from giving us completely absurd characters while allowing it to introduce some noise and randomness into the sampled text. Read more about [topk, here](https://pytorch.org/docs/stable/torch.html#torch.topk).\n"
   ]
  },
  {
   "cell_type": "code",
   "execution_count": 0,
   "metadata": {
    "colab": {},
    "colab_type": "code",
    "id": "1tf4pDmkYGOL"
   },
   "outputs": [],
   "source": [
    "def predict(net, char, h=None, top_k=None):\n",
    "        ''' Given a character, predict the next character.\n",
    "            Returns the predicted character and the hidden state.\n",
    "        '''\n",
    "        \n",
    "        # tensor inputs\n",
    "        x = np.array([[net.char2int[char]]])\n",
    "        x = one_hot_encode(x, len(net.chars))\n",
    "        inputs = torch.from_numpy(x)\n",
    "        \n",
    "        if(train_on_gpu):\n",
    "            inputs = inputs.cuda()\n",
    "        \n",
    "        # detach hidden state from history\n",
    "        h = tuple([each.data for each in h])\n",
    "        # get the output of the model\n",
    "        out, h = net(inputs, h)\n",
    "\n",
    "        # get the character probabilities\n",
    "        p = F.softmax(out, dim=1).data\n",
    "        if(train_on_gpu):\n",
    "            p = p.cpu() # move to cpu\n",
    "        \n",
    "        # get top characters\n",
    "        if top_k is None:\n",
    "            top_ch = np.arange(len(net.chars))\n",
    "        else:\n",
    "            p, top_ch = p.topk(top_k)\n",
    "            top_ch = top_ch.numpy().squeeze()\n",
    "        \n",
    "        # select the likely next character with some element of randomness\n",
    "        p = p.numpy().squeeze()\n",
    "        char = np.random.choice(top_ch, p=p/p.sum())\n",
    "        \n",
    "        # return the encoded value of the predicted char and the hidden state\n",
    "        return net.int2char[char], h"
   ]
  },
  {
   "cell_type": "markdown",
   "metadata": {
    "colab_type": "text",
    "id": "V2IS2gorYGOP"
   },
   "source": [
    "### Priming and generating text \n",
    "\n",
    "Typically you'll want to prime the network so you can build up a hidden state. Otherwise the network will start out generating characters at random. In general the first bunch of characters will be a little rough since it hasn't built up a long history of characters to predict from."
   ]
  },
  {
   "cell_type": "code",
   "execution_count": 5,
   "metadata": {
    "colab": {},
    "colab_type": "code",
    "id": "ja2URmw9YGOR"
   },
   "outputs": [],
   "source": [
    "def sample(net, size, prime='The', top_k=None):\n",
    "        \n",
    "    if(train_on_gpu):\n",
    "        net.cuda()\n",
    "    else:\n",
    "        net.cpu()\n",
    "    \n",
    "    net.eval() # eval mode\n",
    "    \n",
    "    # First off, run through the prime characters\n",
    "    chars = [ch for ch in prime]\n",
    "    h = net.init_hidden(1)\n",
    "    for ch in prime:\n",
    "        char, h = predict(net, ch, h, top_k=top_k)\n",
    "\n",
    "    chars.append(char)\n",
    "    \n",
    "    # Now pass in the previous character and get a new one\n",
    "    for ii in range(size):\n",
    "        char, h = predict(net, chars[-1], h, top_k=top_k)\n",
    "        chars.append(char)\n",
    "\n",
    "    return ''.join(chars)"
   ]
  },
  {
   "cell_type": "code",
   "execution_count": 6,
   "metadata": {
    "colab": {
     "base_uri": "https://localhost:8080/",
     "height": 394
    },
    "colab_type": "code",
    "id": "mVAUUQ0XYGOV",
    "outputId": "8e0b23b6-13ed-4a90-92b8-cc5cf6443d61"
   },
   "outputs": [
    {
     "ename": "NameError",
     "evalue": "name 'net' is not defined",
     "output_type": "error",
     "traceback": [
      "\u001b[1;31m---------------------------------------------------------------------------\u001b[0m",
      "\u001b[1;31mNameError\u001b[0m                                 Traceback (most recent call last)",
      "\u001b[1;32m<ipython-input-6-fe188c3feac3>\u001b[0m in \u001b[0;36m<module>\u001b[1;34m\u001b[0m\n\u001b[1;32m----> 1\u001b[1;33m \u001b[0mprint\u001b[0m\u001b[1;33m(\u001b[0m\u001b[0msample\u001b[0m\u001b[1;33m(\u001b[0m\u001b[0mnet\u001b[0m\u001b[1;33m,\u001b[0m \u001b[1;36m1000\u001b[0m\u001b[1;33m,\u001b[0m \u001b[0mprime\u001b[0m\u001b[1;33m=\u001b[0m\u001b[1;34m'Anna'\u001b[0m\u001b[1;33m,\u001b[0m \u001b[0mtop_k\u001b[0m\u001b[1;33m=\u001b[0m\u001b[1;36m5\u001b[0m\u001b[1;33m)\u001b[0m\u001b[1;33m)\u001b[0m\u001b[1;33m\u001b[0m\u001b[0m\n\u001b[0m",
      "\u001b[1;31mNameError\u001b[0m: name 'net' is not defined"
     ]
    }
   ],
   "source": [
    "print(sample(net, 1000, prime='Anna', top_k=5))"
   ]
  },
  {
   "cell_type": "markdown",
   "metadata": {
    "colab_type": "text",
    "id": "6KAMYq6cYGOa"
   },
   "source": [
    "## Loading a checkpoint"
   ]
  },
  {
   "cell_type": "code",
   "execution_count": 4,
   "metadata": {
    "colab": {},
    "colab_type": "code",
    "id": "ydKFU9j5YGOc"
   },
   "outputs": [
    {
     "ename": "NameError",
     "evalue": "name 'CharRNN' is not defined",
     "output_type": "error",
     "traceback": [
      "\u001b[1;31m---------------------------------------------------------------------------\u001b[0m",
      "\u001b[1;31mNameError\u001b[0m                                 Traceback (most recent call last)",
      "\u001b[1;32m<ipython-input-4-734fcf1e0181>\u001b[0m in \u001b[0;36m<module>\u001b[1;34m\u001b[0m\n\u001b[0;32m      3\u001b[0m     \u001b[0mcheckpoint\u001b[0m \u001b[1;33m=\u001b[0m \u001b[0mtorch\u001b[0m\u001b[1;33m.\u001b[0m\u001b[0mload\u001b[0m\u001b[1;33m(\u001b[0m\u001b[0mf\u001b[0m\u001b[1;33m,\u001b[0m\u001b[0mmap_location\u001b[0m\u001b[1;33m=\u001b[0m\u001b[1;34m'cpu'\u001b[0m\u001b[1;33m)\u001b[0m\u001b[1;33m\u001b[0m\u001b[0m\n\u001b[0;32m      4\u001b[0m \u001b[1;33m\u001b[0m\u001b[0m\n\u001b[1;32m----> 5\u001b[1;33m \u001b[0mloaded\u001b[0m \u001b[1;33m=\u001b[0m \u001b[0mCharRNN\u001b[0m\u001b[1;33m(\u001b[0m\u001b[0mcheckpoint\u001b[0m\u001b[1;33m[\u001b[0m\u001b[1;34m'tokens'\u001b[0m\u001b[1;33m]\u001b[0m\u001b[1;33m,\u001b[0m \u001b[0mn_hidden\u001b[0m\u001b[1;33m=\u001b[0m\u001b[0mcheckpoint\u001b[0m\u001b[1;33m[\u001b[0m\u001b[1;34m'n_hidden'\u001b[0m\u001b[1;33m]\u001b[0m\u001b[1;33m,\u001b[0m \u001b[0mn_layers\u001b[0m\u001b[1;33m=\u001b[0m\u001b[0mcheckpoint\u001b[0m\u001b[1;33m[\u001b[0m\u001b[1;34m'n_layers'\u001b[0m\u001b[1;33m]\u001b[0m\u001b[1;33m)\u001b[0m\u001b[1;33m\u001b[0m\u001b[0m\n\u001b[0m\u001b[0;32m      6\u001b[0m \u001b[0mloaded\u001b[0m\u001b[1;33m.\u001b[0m\u001b[0mload_state_dict\u001b[0m\u001b[1;33m(\u001b[0m\u001b[0mcheckpoint\u001b[0m\u001b[1;33m[\u001b[0m\u001b[1;34m'state_dict'\u001b[0m\u001b[1;33m]\u001b[0m\u001b[1;33m)\u001b[0m\u001b[1;33m\u001b[0m\u001b[0m\n",
      "\u001b[1;31mNameError\u001b[0m: name 'CharRNN' is not defined"
     ]
    }
   ],
   "source": [
    "# Here we have loaded in a model that trained over 20 epochs `rnn_20_epoch.net`\n",
    "with open('rnn_x_epoch.net', 'rb') as f:\n",
    "    checkpoint = torch.load(f,map_location='cpu')\n",
    "    \n",
    "loaded = CharRNN(checkpoint['tokens'], n_hidden=checkpoint['n_hidden'], n_layers=checkpoint['n_layers'])\n",
    "loaded.load_state_dict(checkpoint['state_dict'])"
   ]
  },
  {
   "cell_type": "code",
   "execution_count": 50,
   "metadata": {
    "colab": {
     "base_uri": "https://localhost:8080/",
     "height": 717
    },
    "colab_type": "code",
    "id": "6rAOkCt6YGOo",
    "outputId": "22b94d0f-cc81-4cd0-b9d1-67fb58a48a16"
   },
   "outputs": [
    {
     "name": "stdout",
     "output_type": "stream",
     "text": [
      "And Levin said, was that the point of supplirity, sevine homing was not\n",
      "angry and the chairs to a significance in\n",
      "the doctor was standing, and at once\n",
      "had been sturring on one sort of home.\n",
      "He felt almost their white\n",
      "light, and that there was a step, as they had\n",
      "not the crue, with an instends that it was tried\n",
      "to be carried about.\n",
      "\n",
      "\"I'm saking,\" he thought. \"I have a corder of\n",
      "the sacred for married cannitien to them.\"\n",
      "\n",
      "The cramp, she was simply silent in these\n",
      "steps in these family trains of hand and and the prevertion of the son, and went on at once with them that however\n",
      "was so intingerible, that\n",
      "it was her sister, and she was the satering of times, and all the carting out a chest, who had been carred up his sister. But he was any time, and the same sense of the meeting, and he was doing, whos was so much and the more table of his coal, there was a candle when had to be supper from them.\n",
      "\n",
      "\"The people were to see her as I can't be intellect and more from the forest to me for an always to be seeing ablost a condection on the conditions of the\n",
      "persentary of my condition.\"\n",
      "\n",
      "The mare and the waiter of the door well recalled and with\n",
      "the sound was\n",
      "not\n",
      "a long wife's\n",
      "hopes, and shates their\n",
      "wife, with the sturid world. He had said\n",
      "that he was so sering his. He had not telling her, and his early\n",
      "preparation at the precious shade of the presinces, so that he saw the land whose\n",
      "subject with his words who would have to talk over his face. And he went into the sight\n",
      "of her face, but he went into the pleasure, she changed the cornidication of his heart,\n",
      "with a carting came, alone all the women to the portress was sure it sent terest and\n",
      "shoulders, and the meaning\n",
      "of his some social subjecticiance of which he would\n",
      "should have confidents; because he was a crowd of heart. He went to his face to the\n",
      "stoped of the drawing room to his hand in spated out with the passence, and a consideration\n",
      "was so so tore, and was told them.\n",
      "\n",
      "\"Well, what do you wish that I\n",
      "have not been and to be done? I\n",
      "she don\n"
     ]
    }
   ],
   "source": [
    "# Sample using a loaded model\n",
    "print(sample(loaded, 2000, top_k=5, prime=\"And Levin said\"))"
   ]
  },
  {
   "cell_type": "code",
   "execution_count": 51,
   "metadata": {
    "colab": {
     "base_uri": "https://localhost:8080/",
     "height": 51
    },
    "colab_type": "code",
    "id": "JhDPbdF6YGOt",
    "outputId": "b8290181-ce21-43b9-bc28-2e5baa1047a7"
   },
   "outputs": [
    {
     "name": "stdout",
     "output_type": "stream",
     "text": [
      "anna.txt\t\t\t\t\tpytorch041_cuda92_colab.sh\n",
      "cuda-repo-ubuntu1604-9-2-local_9.2.148-1_amd64\trnn_x_epoch.net\n"
     ]
    }
   ],
   "source": [
    "!ls\n"
   ]
  },
  {
   "cell_type": "code",
   "execution_count": 0,
   "metadata": {
    "colab": {},
    "colab_type": "code",
    "id": "tRoQ2ztSBHmA"
   },
   "outputs": [],
   "source": [
    "# Downoad the model\n",
    "from google.colab import files\n",
    "files.download('rnn_x_epoch.net') "
   ]
  }
 ],
 "metadata": {
  "accelerator": "GPU",
  "colab": {
   "name": "Character_Level_RNN.ipynb",
   "provenance": [],
   "version": "0.3.2"
  },
  "kernelspec": {
   "display_name": "Python 3",
   "language": "python",
   "name": "python3"
  },
  "language_info": {
   "codemirror_mode": {
    "name": "ipython",
    "version": 3
   },
   "file_extension": ".py",
   "mimetype": "text/x-python",
   "name": "python",
   "nbconvert_exporter": "python",
   "pygments_lexer": "ipython3",
   "version": "3.6.6"
  }
 },
 "nbformat": 4,
 "nbformat_minor": 1
}
