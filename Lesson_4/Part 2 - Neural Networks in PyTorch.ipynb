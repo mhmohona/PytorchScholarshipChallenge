{
 "cells": [
  {
   "cell_type": "markdown",
   "metadata": {},
   "source": [
    "# Neural networks with PyTorch\n",
    "\n",
    "Deep learning networks tend to be massive with dozens or hundreds of layers, that's where the term \"deep\" comes from. You can build one of these deep networks using only weight matrices as we did in the previous notebook, but in general it's very cumbersome and difficult to implement. PyTorch has a nice module `nn` that provides a nice way to efficiently build large neural networks."
   ]
  },
  {
   "cell_type": "code",
   "execution_count": 1,
   "metadata": {},
   "outputs": [],
   "source": [
    "# Import necessary packages\n",
    "\n",
    "%matplotlib inline\n",
    "%config InlineBackend.figure_format = 'retina'\n",
    "\n",
    "import numpy as np\n",
    "import torch\n",
    "\n",
    "import helper\n",
    "\n",
    "import matplotlib.pyplot as plt"
   ]
  },
  {
   "cell_type": "markdown",
   "metadata": {},
   "source": [
    "\n",
    "Now we're going to build a larger network that can solve a (formerly) difficult problem, identifying text in an image. Here we'll use the MNIST dataset which consists of greyscale handwritten digits. Each image is 28x28 pixels, you can see a sample below\n",
    "\n",
    "<img src='assets/mnist.png'>\n",
    "\n",
    "Our goal is to build a neural network that can take one of these images and predict the digit in the image.\n",
    "\n",
    "First up, we need to get our dataset. This is provided through the `torchvision` package. The code below will download the MNIST dataset, then create training and test datasets for us. Don't worry too much about the details here, you'll learn more about this later."
   ]
  },
  {
   "cell_type": "code",
   "execution_count": 2,
   "metadata": {},
   "outputs": [
    {
     "name": "stdout",
     "output_type": "stream",
     "text": [
      "Downloading http://yann.lecun.com/exdb/mnist/train-images-idx3-ubyte.gz\n",
      "Downloading http://yann.lecun.com/exdb/mnist/train-labels-idx1-ubyte.gz\n",
      "Downloading http://yann.lecun.com/exdb/mnist/t10k-images-idx3-ubyte.gz\n",
      "Downloading http://yann.lecun.com/exdb/mnist/t10k-labels-idx1-ubyte.gz\n",
      "Processing...\n",
      "Done!\n"
     ]
    }
   ],
   "source": [
    "### Run this cell\n",
    "\n",
    "from torchvision import datasets, transforms\n",
    "\n",
    "# Define a transform to normalize the data\n",
    "transform = transforms.Compose([transforms.ToTensor(),\n",
    "                              transforms.Normalize((0.5, 0.5, 0.5), (0.5, 0.5, 0.5)),\n",
    "                              ])\n",
    "\n",
    "# Download and load the training data\n",
    "trainset = datasets.MNIST('MNIST_data/', download=True, train=True, transform=transform)\n",
    "trainloader = torch.utils.data.DataLoader(trainset, batch_size=64, shuffle=True)"
   ]
  },
  {
   "cell_type": "markdown",
   "metadata": {},
   "source": [
    "We have the training data loaded into `trainloader` and we make that an iterator with `iter(trainloader)`. Later, we'll use this to loop through the dataset for training, like\n",
    "\n",
    "```python\n",
    "for image, label in trainloader:\n",
    "    ## do things with images and labels\n",
    "```\n",
    "\n",
    "You'll notice I created the `trainloader` with a batch size of 64, and `shuffle=True`. The batch size is the number of images we get in one iteration from the data loader and pass through our network, often called a *batch*. And `shuffle=True` tells it to shuffle the dataset every time we start going through the data loader again. But here I'm just grabbing the first batch so we can check out the data. We can see below that `images` is just a tensor with size `(64, 1, 28, 28)`. So, 64 images per batch, 1 color channel, and 28x28 images."
   ]
  },
  {
   "cell_type": "code",
   "execution_count": 3,
   "metadata": {},
   "outputs": [
    {
     "name": "stdout",
     "output_type": "stream",
     "text": [
      "<class 'torch.Tensor'>\n",
      "torch.Size([64, 1, 28, 28])\n",
      "torch.Size([64])\n"
     ]
    }
   ],
   "source": [
    "dataiter = iter(trainloader)\n",
    "images, labels = dataiter.next()\n",
    "print(type(images))\n",
    "print(images.shape)\n",
    "print(labels.shape)"
   ]
  },
  {
   "cell_type": "markdown",
   "metadata": {},
   "source": [
    "This is what one of the images looks like. "
   ]
  },
  {
   "cell_type": "code",
   "execution_count": 4,
   "metadata": {
    "scrolled": true
   },
   "outputs": [
    {
     "data": {
      "image/png": "[encoded data removed]",
      "text/plain": [
       "<Figure size 432x288 with 1 Axes>"
      ]
     },
     "metadata": {
      "image/png": {
       "height": 250,
       "width": 253
      },
      "needs_background": "light"
     },
     "output_type": "display_data"
    }
   ],
   "source": [
    "plt.imshow(images[1].numpy().squeeze(), cmap='Greys_r');"
   ]
  },
  {
   "cell_type": "markdown",
   "metadata": {},
   "source": [
    "First, let's try to build a simple network for this dataset using weight matrices and matrix multiplications. Then, we'll see how to do it using PyTorch's `nn` module which provides a much more convenient and powerful method for defining network architectures.\n",
    "\n",
    "The networks you've seen so far are called *fully-connected* or *dense* networks. Each unit in one layer is connected to each unit in the next layer. In fully-connected networks, the input to each layer must be a one-dimensional vector (which can be stacked into a 2D tensor as a batch of multiple examples). However, our images are 28x28 2D tensors, so we need to convert them into 1D vectors. Thinking about sizes, we need to convert the batch of images with shape `(64, 1, 28, 28)` to a have a shape of `(64, 784)`, 784 is 28 times 28. This is typically called *flattening*, we flattened the 2D images into 1D vectors.\n",
    "\n",
    "Previously you built a network with one output unit. Here we need 10 output units, one for each digit. We want our network to predict the digit shown in an image, so what we'll do is calculate probabilities that the image is of any one digit or class. This ends up being a discrete probability distribution over the classes (digits) that tells us the most likely class for the image. That means we need 10 output units for the 10 classes (digits). We'll see how to convert the network output into a probability distribution next.\n",
    "\n",
    "> **Exercise:** Flatten the batch of images `images`. Then build a multi-layer network with 784 input units, 256 hidden units, and 10 output units using random tensors for the weights and biases. For now, use a sigmoid activation for the hidden layer. Leave the output layer without an activation, we'll add one that gives us a probability distribution next."
   ]
  },
  {
   "cell_type": "code",
   "execution_count": 17,
   "metadata": {},
   "outputs": [],
   "source": [
    "# Activation function\n",
    "def activation(x):\n",
    "    return 1/(1+torch.exp(-x))\n",
    "\n",
    "# Flatten the input images\n",
    "inputs = images.view(images.shape[0], -1)\n",
    "\n",
    "# Create parameters\n",
    "w1 = torch.randn(784, 256)\n",
    "b1 = torch.randn(256)\n",
    "\n",
    "w2 = torch.randn(256, 10)\n",
    "b2 = torch.randn(10)\n",
    "\n",
    "# hidden layer\n",
    "h = activation(torch.mm(inputs, w1) + b1)\n",
    "\n",
    "#output\n",
    "out = torch.mm(h, w2) + b2"
   ]
  },
  {
   "cell_type": "code",
   "execution_count": 18,
   "metadata": {},
   "outputs": [
    {
     "data": {
      "text/plain": [
       "torch.Size([64, 10])"
      ]
     },
     "execution_count": 18,
     "metadata": {},
     "output_type": "execute_result"
    }
   ],
   "source": [
    "out.shape"
   ]
  },
  {
   "cell_type": "code",
   "execution_count": 19,
   "metadata": {},
   "outputs": [
    {
     "name": "stdout",
     "output_type": "stream",
     "text": [
      "tensor([[ -0.5734,  22.8842,  -6.4425,  14.1006,  -8.3006,  -8.2489,  -9.7408,\n",
      "         -26.0843, -27.8295,   8.0774],\n",
      "        [  3.9085,  16.9710, -13.1580,  12.8379,  -2.0382,   3.3167,  -8.7077,\n",
      "         -17.5015, -12.4106,   8.9330],\n",
      "        [ -2.1073,  10.1265, -12.9740,  18.0917,   0.7581,   3.1363,  -1.4837,\n",
      "          -4.8707, -18.2231,   9.4110],\n",
      "        [  4.0469,  21.5012,  -3.4999,  16.3868,   1.7417,   1.7948,  -4.8898,\n",
      "         -25.5516, -27.5296,   9.7382],\n",
      "        [  0.2888,  14.1936,  -6.0692,  14.3651,  -0.0372,   4.3156,  -7.6130,\n",
      "         -16.4584, -20.6250,  15.5159],\n",
      "        [  8.9338,  27.0787,  -6.9089,  19.3923,  -9.1640,   5.0418, -11.1199,\n",
      "         -15.2067, -23.1737,   9.1977],\n",
      "        [  5.7426,   4.5922, -15.8860,  15.2033,  -5.4597,   1.8235,   1.4772,\n",
      "         -12.7332, -19.7504,   3.3967],\n",
      "        [  1.7233,  13.2272,  -2.9491,  10.8112,  -2.9274,   3.9506,   3.9914,\n",
      "         -26.4575, -18.8173,   9.6761],\n",
      "        [-10.0739,  18.8989, -11.1753,  29.0237,   5.1621,  -0.1466,   1.8469,\n",
      "         -16.3249, -25.4405,   6.1106],\n",
      "        [ -1.1827,   4.2751,  -9.6812,  16.5820,  -7.7418,  -2.3990,   8.7605,\n",
      "         -14.5178, -21.0605,   9.6978],\n",
      "        [ -2.7060,  18.4170,  -4.6302,  18.8322,  -8.3645,  17.8758,   3.9279,\n",
      "         -26.1630, -23.9467,   8.8967],\n",
      "        [  6.6260,  15.6087,  -9.0270,  15.3655,   0.3673,   8.5446,  -9.2162,\n",
      "         -17.0167, -18.9577,  12.5446],\n",
      "        [  4.2656,  13.3599, -15.6417,   8.7746,   5.2304,   3.8744,  -1.4957,\n",
      "         -11.9070, -17.1735,  10.5854],\n",
      "        [  9.6409,  15.4060,   0.9329,  16.9837,   6.6453,   5.1627,  -4.7442,\n",
      "         -17.1620, -15.8429,  15.0056],\n",
      "        [ -6.5588,  22.2057, -11.6585,  28.2908,  15.7051,   3.3265,  -8.3846,\n",
      "         -21.9668, -25.0181,  10.0610],\n",
      "        [ -8.8647,  20.3938, -15.9080,  27.0176,  -1.6153,  -7.3493,   6.3781,\n",
      "          -9.5394, -24.5242,  13.5796],\n",
      "        [  4.6209,  31.4417, -11.4704,  15.7426,   0.9231,   7.5972, -17.2856,\n",
      "         -21.9211, -24.5124,   6.2941],\n",
      "        [  9.1081,   6.1045,  -2.0965,  19.2625,  -4.2316,  -3.2507,  -1.3986,\n",
      "          -3.9295, -25.0110,   8.5292],\n",
      "        [ -6.5518,  22.9241,  -0.7721,  23.1936,   0.2315,  -1.0865,  -3.4637,\n",
      "         -26.8354, -20.3586,  11.1581],\n",
      "        [ 13.5438,  14.0637,  -3.6702,  18.0989,  -2.8210,   8.0276,   1.8379,\n",
      "         -15.5356, -24.0047,   3.9875],\n",
      "        [  9.4024,  10.1902,   6.9609,  20.1581,   5.5975,   5.4551,  -0.0177,\n",
      "         -19.6543, -19.8831,   8.6853],\n",
      "        [ 14.4288,  16.3959,  -9.0500,  15.6068,  11.8517,   2.0636,  -2.7803,\n",
      "         -22.7533, -20.6499,  15.4595],\n",
      "        [ -0.3893,  18.1269,  -5.9920,  19.9554,   2.1859,   8.6108,  -7.9591,\n",
      "         -13.1100, -20.6905,   9.1697],\n",
      "        [  4.6034,  12.6164, -10.0770,  19.6500,  -9.3585,  -0.0672,   1.9797,\n",
      "         -13.8690, -16.6051,  13.7705],\n",
      "        [ -7.8771,  21.1426,  -4.2559,  26.5047,   0.8766,   4.1931,   5.8935,\n",
      "         -23.1574, -26.9394,  -0.7602],\n",
      "        [ -5.4488,  24.8081,  -5.8331,  22.9763,  -3.6184,  -1.1767,  -4.6316,\n",
      "         -25.4514, -28.1815,  15.4930],\n",
      "        [ -4.0151,  11.9346,  -2.5335,  21.0320,  -4.1581,  -1.1908,   1.6625,\n",
      "         -10.1195, -19.7807,  14.7331],\n",
      "        [  2.9672,  25.1571,  -3.5041,  16.9638,   1.5773,   5.4419,  -3.5933,\n",
      "         -30.2267, -33.5034,   5.8768],\n",
      "        [ -9.9876,  31.6008,  -2.7953,  22.3574,  -7.0176,   0.4957,  -2.3277,\n",
      "         -32.8929, -28.9880,   9.5627],\n",
      "        [ -6.4154,  15.5717,  -6.0189,  15.6261,  -2.4447,   4.2597,  -0.8089,\n",
      "         -10.2265, -18.2555,   9.0833],\n",
      "        [ -9.4190,  32.0667,   1.6763,  20.3383,  -8.6939,  -1.7173,  -3.6464,\n",
      "         -31.4343, -25.5282,   3.7882],\n",
      "        [ -6.8487,  10.1849, -20.0721,  20.4094,   5.0322,   0.2631,   0.9180,\n",
      "         -20.7655, -16.8447,   9.6502],\n",
      "        [ 10.9889,   7.2795,  -0.4631,  22.2169,  -1.3362,  -1.3109,  -4.8491,\n",
      "         -19.7756, -27.6133,  10.5295],\n",
      "        [ -5.2729,   5.3899,  -8.3284,  14.7625,  -0.8755,   0.4248,  -3.8748,\n",
      "          -7.7682,  -8.2373,   3.9473],\n",
      "        [  0.6728,  12.6647,  -9.4858,  22.8266,  11.5599,  10.5180,   6.7797,\n",
      "         -23.1195, -12.6714,  14.6286],\n",
      "        [ -8.1853,  22.1106,  -0.9115,  21.1579,   3.6950,  13.8728,   3.9734,\n",
      "         -30.0550, -17.9424,  11.4806],\n",
      "        [  3.6549,  16.3707,  -5.2393,  18.3358,   5.8557,  17.7255,  -2.6633,\n",
      "         -15.6774, -12.0411,  11.4536],\n",
      "        [ -5.5380,   5.6675, -14.7332,   9.3760,  -2.6702,  10.3544,   1.0527,\n",
      "         -11.6742, -16.8744,   4.6904],\n",
      "        [  5.1748,  24.7233,  -2.0553,  12.8463,   9.3676,   0.9599, -17.6947,\n",
      "         -25.8587, -13.0025,   8.8301],\n",
      "        [  4.6547,  23.6526,  -4.2235,  18.4675,  -4.1366,   4.7640, -21.2023,\n",
      "         -14.2843, -27.5876,   1.5003],\n",
      "        [ -6.6299,  20.4656,  -3.3334,  22.2901,   9.2004, -10.9770,   0.9530,\n",
      "         -29.9383, -28.3416,  11.1826],\n",
      "        [  7.9830,  20.8470,  -5.2481,  18.8338,  -3.7878,  20.3889,  -4.3155,\n",
      "         -21.6741, -21.1105,  15.0954],\n",
      "        [  1.0338,  22.6291,   6.1437,  22.7030,   0.0327,   5.7518,  -9.3209,\n",
      "         -27.7860, -20.5694,  13.5772],\n",
      "        [  3.9730,  15.7640, -17.5893,  22.9642,   2.5758,  -2.6799, -10.2461,\n",
      "         -19.6143, -16.2220,  18.0694],\n",
      "        [ 14.6133,  22.2735,  -5.3540,  23.5204,   7.9309,   6.2812,  -5.3294,\n",
      "         -27.1886, -13.7212,   8.7268],\n",
      "        [  2.2584,  15.4775, -14.1074,  20.2082,   1.1305,   6.3785,  -0.5922,\n",
      "         -18.0371, -23.4446,  12.0983],\n",
      "        [  7.7867,  17.5265,  -9.8844,  15.4389,   7.2981,   5.6625,  -3.7612,\n",
      "         -25.9517, -28.4300,   5.1096],\n",
      "        [ -1.5243,  14.3795,  -1.6177,   8.6094,   2.9881,  11.3425,   6.2513,\n",
      "         -10.9891, -23.0294,   5.4415],\n",
      "        [  2.1352,   9.8449, -10.5484,  23.1830,   0.9142,  -5.0057,   8.0084,\n",
      "          -6.0746, -19.1021,   5.7060],\n",
      "        [ 18.8289,   8.4543,  -4.6381,  19.8499,  -0.9450,  13.4110,  -9.7727,\n",
      "          -4.0007, -10.4828,   8.6728],\n",
      "        [  6.8617,  13.8408,  -8.3126,  23.3957,  -5.8766,  -5.3079,  -4.8308,\n",
      "         -23.1558, -26.2761,  12.5832],\n",
      "        [  9.2672,  10.6687,  -4.6050,  18.3179,   7.6211,  11.3480,  -9.8311,\n",
      "          -5.0815, -10.1839,  13.5781],\n",
      "        [ -1.6966,  14.0192, -12.6382,  15.5604,  -7.8339,   3.8207,   3.0728,\n",
      "         -20.8915, -15.1990,   2.4505],\n",
      "        [ -9.5411,  33.1379,  -3.5950,  26.7315,  -9.0876,  -5.2406,  -0.9169,\n",
      "         -22.9679, -24.3092,  11.7220],\n",
      "        [ -3.7311,  24.0606,  -7.8392,  24.2026,   3.1845,   3.5277,   0.4601,\n",
      "         -25.3508, -22.3860,   9.9555],\n",
      "        [ -5.1085,  13.5992,  -5.5862,  25.7370,   9.7299,  12.0194,   3.2715,\n",
      "         -14.9637, -31.4808,   9.8284],\n",
      "        [  0.8630,  26.5497,  -3.0630,  20.9774,   2.0651,  10.8280, -10.1180,\n",
      "         -27.5895, -29.4917,   6.5099],\n",
      "        [  6.2030,  12.0008, -10.7365,   6.0272,   3.1024,  15.1422,   2.9645,\n",
      "         -14.6251,  -8.2494,  13.0467],\n",
      "        [ 12.2802,   9.3504,  -5.0575,  14.8557,  -1.3854,  -1.0008,  -3.4405,\n",
      "         -12.7093, -20.3045,   8.3489],\n",
      "        [ -5.6367,  18.4241,  -3.8283,  29.5426,   8.6074,   6.4654,  -3.2941,\n",
      "         -19.3971, -30.6922,  10.3806],\n",
      "        [-10.6019,  34.2854,  -0.1798,  27.6273,  -1.9610,  -5.2366,   0.5659,\n",
      "         -25.0377, -20.4495,   9.2743],\n",
      "        [ -1.5808,  14.3275, -10.0816,  21.2326,   5.4972,   2.1550,  -0.4258,\n",
      "         -14.5510, -22.8787,  12.3452],\n",
      "        [ -1.0955,  11.8883, -15.3493,  26.2730,  -4.1971,  -8.6432,   2.5626,\n",
      "         -18.7219, -21.4927,   8.6233],\n",
      "        [  3.7378,  15.6281,  -5.2102,  21.3296,  -5.1136,  -4.1791,  -7.9239,\n",
      "         -19.7976, -25.2933,  11.5887]])\n"
     ]
    }
   ],
   "source": [
    "print(out)"
   ]
  },
  {
   "cell_type": "markdown",
   "metadata": {},
   "source": [
    "Now we have 10 outputs for our network. We want to pass in an image to our network and get out a probability distribution over the classes that tells us the likely class(es) the image belongs to. Something that looks like this:\n",
    "<img src='assets/image_distribution.png' width=500px>\n",
    "\n",
    "Here we see that the probability for each class is roughly the same. This is representing an untrained network, it hasn't seen any data yet so it just returns a uniform distribution with equal probabilities for each class.\n",
    "\n",
    "To calculate this probability distribution, we often use the [**softmax** function](https://en.wikipedia.org/wiki/Softmax_function). Mathematically this looks like\n",
    "\n",
    "$$\n",
    "\\Large \\sigma(x_i) = \\cfrac{e^{x_i}}{\\sum_k^K{e^{x_k}}}\n",
    "$$\n",
    "\n",
    "What this does is squish each input $x_i$ between 0 and 1 and normalizes the values to give you a proper probability distribution where the probabilites sum up to one.\n",
    "\n",
    "> **Exercise:** Implement a function `softmax` that performs the softmax calculation and returns probability distributions for each example in the batch. Note that you'll need to pay attention to the shapes when doing this. If you have a tensor `a` with shape `(64, 10)` and a tensor `b` with shape `(64,)`, doing `a/b` will give you an error because PyTorch will try to do the division across the columns (called broadcasting) but you'll get a size mismatch. The way to think about this is for each of the 64 examples, you only want to divide by one value, the sum in the denominator. So you need `b` to have a shape of `(64, 1)`. This way PyTorch will divide the 10 values in each row of `a` by the one value in each row of `b`. Pay attention to how you take the sum as well. You'll need to define the `dim` keyword in `torch.sum`. Setting `dim=0` takes the sum across the rows while `dim=1` takes the sum across the columns."
   ]
  },
  {
   "cell_type": "code",
   "execution_count": 23,
   "metadata": {},
   "outputs": [
    {
     "name": "stdout",
     "output_type": "stream",
     "text": [
      "torch.Size([64, 10])\n",
      "tensor([1.0000, 1.0000, 1.0000, 1.0000, 1.0000, 1.0000, 1.0000, 1.0000, 1.0000,\n",
      "        1.0000, 1.0000, 1.0000, 1.0000, 1.0000, 1.0000, 1.0000, 1.0000, 1.0000,\n",
      "        1.0000, 1.0000, 1.0000, 1.0000, 1.0000, 1.0000, 1.0000, 1.0000, 1.0000,\n",
      "        1.0000, 1.0000, 1.0000, 1.0000, 1.0000, 1.0000, 1.0000, 1.0000, 1.0000,\n",
      "        1.0000, 1.0000, 1.0000, 1.0000, 1.0000, 1.0000, 1.0000, 1.0000, 1.0000,\n",
      "        1.0000, 1.0000, 1.0000, 1.0000, 1.0000, 1.0000, 1.0000, 1.0000, 1.0000,\n",
      "        1.0000, 1.0000, 1.0000, 1.0000, 1.0000, 1.0000, 1.0000, 1.0000, 1.0000,\n",
      "        1.0000])\n"
     ]
    }
   ],
   "source": [
    "def softmax(x):\n",
    "    ## TODO: Implement the softmax function here\n",
    "    return torch.exp(x)/torch.sum(torch.exp(x), dim=1).view(-1,1)\n",
    "# Here, out should be the output of the network in the previous excercise with shape (64,10)\n",
    "probabilities = softmax(out)\n",
    "\n",
    "# Does it have the right shape? Should be (64, 10)\n",
    "print(probabilities.shape)\n",
    "# Does it sum to 1?\n",
    "print(probabilities.sum(dim=1))"
   ]
  },
  {
   "cell_type": "markdown",
   "metadata": {},
   "source": [
    "## Building networks with PyTorch\n",
    "\n",
    "PyTorch provides a module `nn` that makes building networks much simpler. Here I'll show you how to build the same one as above with 784 inputs, 256 hidden units, 10 output units and a softmax output."
   ]
  },
  {
   "cell_type": "code",
   "execution_count": 24,
   "metadata": {},
   "outputs": [],
   "source": [
    "from torch import nn"
   ]
  },
  {
   "cell_type": "code",
   "execution_count": 25,
   "metadata": {},
   "outputs": [],
   "source": [
    "class Network(nn.Module):\n",
    "    def __init__(self):\n",
    "        super().__init__()\n",
    "        \n",
    "        # Inputs to hidden layer linear transformation\n",
    "        self.hidden = nn.Linear(784, 256)\n",
    "        # Output layer, 10 units - one for each digit\n",
    "        self.output = nn.Linear(256, 10)\n",
    "        \n",
    "        # Define sigmoid activation and softmax output \n",
    "        self.sigmoid = nn.Sigmoid()\n",
    "        self.softmax = nn.Softmax(dim=1)\n",
    "        \n",
    "    def forward(self, x):\n",
    "        # Pass the input tensor through each of our operations\n",
    "        x = self.hidden(x)\n",
    "        x = self.sigmoid(x)\n",
    "        x = self.output(x)\n",
    "        x = self.softmax(x)\n",
    "        \n",
    "        return x"
   ]
  },
  {
   "cell_type": "markdown",
   "metadata": {},
   "source": [
    "Let's go through this bit by bit.\n",
    "\n",
    "```python\n",
    "class Network(nn.Module):\n",
    "```\n",
    "\n",
    "Here we're inheriting from `nn.Module`. Combined with `super().__init__()` this creates a class that tracks the architecture and provides a lot of useful methods and attributes. It is mandatory to inherit from `nn.Module` when you're creating a class for your network. The name of the class itself can be anything.\n",
    "\n",
    "```python\n",
    "self.hidden = nn.Linear(784, 256)\n",
    "```\n",
    "\n",
    "This line creates a module for a linear transformation, $x\\mathbf{W} + b$, with 784 inputs and 256 outputs and assigns it to `self.hidden`. The module automatically creates the weight and bias tensors which we'll use in the `forward` method. You can access the weight and bias tensors once the network once it's create at `net.hidden.weight` and `net.hidden.bias`.\n",
    "\n",
    "```python\n",
    "self.output = nn.Linear(256, 10)\n",
    "```\n",
    "\n",
    "Similarly, this creates another linear transformation with 256 inputs and 10 outputs.\n",
    "\n",
    "```python\n",
    "self.sigmoid = nn.Sigmoid()\n",
    "self.softmax = nn.Softmax(dim=1)\n",
    "```\n",
    "\n",
    "Here I defined operations for the sigmoid activation and softmax output. Setting `dim=1` in `nn.Softmax(dim=1)` calculates softmax across the columns.\n",
    "\n",
    "```python\n",
    "def forward(self, x):\n",
    "```\n",
    "\n",
    "PyTorch networks created with `nn.Module` must have a `forward` method defined. It takes in a tensor `x` and passes it through the operations you defined in the `__init__` method.\n",
    "\n",
    "```python\n",
    "x = self.hidden(x)\n",
    "x = self.sigmoid(x)\n",
    "x = self.output(x)\n",
    "x = self.softmax(x)\n",
    "```\n",
    "\n",
    "Here the input tensor `x` is passed through each operation a reassigned to `x`. We can see that the input tensor goes through the hidden layer, then a sigmoid function, then the output layer, and finally the softmax function. It doesn't matter what you name the variables here, as long as the inputs and outputs of the operations match the network architecture you want to build. The order in which you define things in the `__init__` method doesn't matter, but you'll need to sequence the operations correctly in the `forward` method.\n",
    "\n",
    "Now we can create a `Network` object."
   ]
  },
  {
   "cell_type": "code",
   "execution_count": 26,
   "metadata": {},
   "outputs": [
    {
     "data": {
      "text/plain": [
       "Network(\n",
       "  (hidden): Linear(in_features=784, out_features=256, bias=True)\n",
       "  (output): Linear(in_features=256, out_features=10, bias=True)\n",
       "  (sigmoid): Sigmoid()\n",
       "  (softmax): Softmax()\n",
       ")"
      ]
     },
     "execution_count": 26,
     "metadata": {},
     "output_type": "execute_result"
    }
   ],
   "source": [
    "# Create the network and look at it's text representation\n",
    "model = Network()\n",
    "model"
   ]
  },
  {
   "cell_type": "markdown",
   "metadata": {},
   "source": [
    "You can define the network somewhat more concisely and clearly using the `torch.nn.functional` module. This is the most common way you'll see networks defined as many operations are simple element-wise functions. We normally import this module as `F`, `import torch.nn.functional as F`."
   ]
  },
  {
   "cell_type": "code",
   "execution_count": 27,
   "metadata": {},
   "outputs": [],
   "source": [
    "import torch.nn.functional as F\n",
    "\n",
    "class Network(nn.Module):\n",
    "    def __init__(self):\n",
    "        super().__init__()\n",
    "        # Inputs to hidden layer linear transformation\n",
    "        self.hidden = nn.Linear(784, 256)\n",
    "        # Output layer, 10 units - one for each digit\n",
    "        self.output = nn.Linear(256, 10)\n",
    "        \n",
    "    def forward(self, x):\n",
    "        # Hidden layer with sigmoid activation\n",
    "        x = F.sigmoid(self.hidden(x))\n",
    "        # Output layer with softmax activation\n",
    "        x = F.softmax(self.output(x), dim=1)\n",
    "        \n",
    "        return x"
   ]
  },
  {
   "cell_type": "markdown",
   "metadata": {},
   "source": [
    "### Activation functions\n",
    "\n",
    "So far we've only been looking at the softmax activation, but in general any function can be used as an activation function. The only requirement is that for a network to approximate a non-linear function, the activation functions must be non-linear. Here are a few more examples of common activation functions: Tanh (hyperbolic tangent), and ReLU (rectified linear unit).\n",
    "\n",
    "<img src=\"assets/activation.png\" width=700px>\n",
    "\n",
    "In practice, the ReLU function is used almost exclusively as the activation function for hidden layers."
   ]
  },
  {
   "cell_type": "markdown",
   "metadata": {},
   "source": [
    "### Your Turn to Build a Network\n",
    "\n",
    "<img src=\"assets/mlp_mnist.png\" width=600px>\n",
    "\n",
    "> **Exercise:** Create a network with 784 input units, a hidden layer with 128 units and a ReLU activation, then a hidden layer with 64 units and a ReLU activation, and finally an output layer with a softmax activation as shown above. You can use a ReLU activation with the `nn.ReLU` module or `F.relu` function."
   ]
  },
  {
   "cell_type": "code",
   "execution_count": 37,
   "metadata": {
    "scrolled": true
   },
   "outputs": [
    {
     "data": {
      "text/plain": [
       "Network(\n",
       "  (fc1): Linear(in_features=784, out_features=128, bias=True)\n",
       "  (fc2): Linear(in_features=128, out_features=64, bias=True)\n",
       "  (fc3): Linear(in_features=64, out_features=10, bias=True)\n",
       ")"
      ]
     },
     "execution_count": 37,
     "metadata": {},
     "output_type": "execute_result"
    }
   ],
   "source": [
    "## Your solution here\n",
    "from torch import nn\n",
    "import torch.nn.functional as F\n",
    "\n",
    "class Network(nn.Module):\n",
    "    def __init__(self):\n",
    "        super().__init__()\n",
    "        # Inputs to hidden layer linear transformation\n",
    "        self.fc1 = nn.Linear(784,128)\n",
    "        # Inputs to second hidden layer linear transformation\n",
    "        self.fc2 = nn.Linear(128,64)\n",
    "        # Output layer, 10 units - one for each digit\n",
    "        self.fc3 = nn.Linear(64,10)\n",
    "        \n",
    "    def forward(self, x):\n",
    "        # Hidden layer with sigmoid activation\n",
    "        x = self.fc1(x)\n",
    "        x = F.relu(x)\n",
    "        x = self.fc2(x)\n",
    "        x = F.relu(x)\n",
    "        x = self.fc3(x)\n",
    "        x = F.softmax(x, dim=1)\n",
    "        return x\n",
    "model = Network()\n",
    "model"
   ]
  },
  {
   "cell_type": "markdown",
   "metadata": {},
   "source": [
    "### Initializing weights and biases\n",
    "\n",
    "The weights and such are automatically initialized for you, but it's possible to customize how they are initialized. The weights and biases are tensors attached to the layer you defined, you can get them with `model.fc1.weight` for instance."
   ]
  },
  {
   "cell_type": "code",
   "execution_count": 38,
   "metadata": {},
   "outputs": [
    {
     "name": "stdout",
     "output_type": "stream",
     "text": [
      "Parameter containing:\n",
      "tensor([[-0.0086, -0.0268,  0.0020,  ...,  0.0168,  0.0213,  0.0114],\n",
      "        [-0.0253,  0.0302, -0.0110,  ...,  0.0200,  0.0189,  0.0249],\n",
      "        [ 0.0248,  0.0247,  0.0172,  ...,  0.0039, -0.0240,  0.0114],\n",
      "        ...,\n",
      "        [-0.0063,  0.0144,  0.0145,  ...,  0.0332, -0.0271,  0.0042],\n",
      "        [ 0.0024, -0.0015, -0.0038,  ...,  0.0065, -0.0076, -0.0091],\n",
      "        [-0.0320, -0.0313,  0.0014,  ..., -0.0107,  0.0208, -0.0210]],\n",
      "       requires_grad=True)\n",
      "Parameter containing:\n",
      "tensor([-0.0350, -0.0189, -0.0209,  0.0093,  0.0128, -0.0264,  0.0076,  0.0267,\n",
      "        -0.0334,  0.0172,  0.0156, -0.0245,  0.0357,  0.0144, -0.0104,  0.0310,\n",
      "        -0.0027,  0.0312, -0.0059,  0.0346, -0.0309, -0.0137,  0.0283,  0.0248,\n",
      "        -0.0112, -0.0353,  0.0060, -0.0140,  0.0294, -0.0159,  0.0099, -0.0139,\n",
      "        -0.0234, -0.0299, -0.0136,  0.0065,  0.0220,  0.0212, -0.0073, -0.0067,\n",
      "        -0.0201, -0.0299,  0.0233,  0.0057,  0.0317, -0.0323, -0.0028,  0.0006,\n",
      "        -0.0203, -0.0190, -0.0176,  0.0081, -0.0222, -0.0192,  0.0154,  0.0306,\n",
      "         0.0315,  0.0317,  0.0295, -0.0055,  0.0246,  0.0049,  0.0103, -0.0315,\n",
      "        -0.0340,  0.0098, -0.0015,  0.0281, -0.0003,  0.0123, -0.0195, -0.0325,\n",
      "         0.0309,  0.0336,  0.0020, -0.0030,  0.0256,  0.0219,  0.0022, -0.0069,\n",
      "        -0.0234,  0.0306, -0.0029,  0.0169,  0.0068, -0.0177,  0.0309, -0.0271,\n",
      "        -0.0050, -0.0103, -0.0161,  0.0283,  0.0130, -0.0081, -0.0075,  0.0303,\n",
      "         0.0321,  0.0063,  0.0010, -0.0163, -0.0088,  0.0051, -0.0064,  0.0256,\n",
      "        -0.0347,  0.0087, -0.0144,  0.0320,  0.0223,  0.0164, -0.0264,  0.0090,\n",
      "         0.0192,  0.0228, -0.0171, -0.0118, -0.0212, -0.0079, -0.0257, -0.0295,\n",
      "        -0.0094,  0.0281,  0.0088, -0.0066,  0.0059, -0.0042,  0.0046,  0.0133],\n",
      "       requires_grad=True)\n"
     ]
    }
   ],
   "source": [
    "print(model.fc1.weight)\n",
    "print(model.fc1.bias)"
   ]
  },
  {
   "cell_type": "markdown",
   "metadata": {},
   "source": [
    "For custom initialization, we want to modify these tensors in place. These are actually autograd *Variables*, so we need to get back the actual tensors with `model.fc1.weight.data`. Once we have the tensors, we can fill them with zeros (for biases) or random normal values."
   ]
  },
  {
   "cell_type": "code",
   "execution_count": 39,
   "metadata": {},
   "outputs": [
    {
     "data": {
      "text/plain": [
       "tensor([0., 0., 0., 0., 0., 0., 0., 0., 0., 0., 0., 0., 0., 0., 0., 0., 0., 0.,\n",
       "        0., 0., 0., 0., 0., 0., 0., 0., 0., 0., 0., 0., 0., 0., 0., 0., 0., 0.,\n",
       "        0., 0., 0., 0., 0., 0., 0., 0., 0., 0., 0., 0., 0., 0., 0., 0., 0., 0.,\n",
       "        0., 0., 0., 0., 0., 0., 0., 0., 0., 0., 0., 0., 0., 0., 0., 0., 0., 0.,\n",
       "        0., 0., 0., 0., 0., 0., 0., 0., 0., 0., 0., 0., 0., 0., 0., 0., 0., 0.,\n",
       "        0., 0., 0., 0., 0., 0., 0., 0., 0., 0., 0., 0., 0., 0., 0., 0., 0., 0.,\n",
       "        0., 0., 0., 0., 0., 0., 0., 0., 0., 0., 0., 0., 0., 0., 0., 0., 0., 0.,\n",
       "        0., 0.])"
      ]
     },
     "execution_count": 39,
     "metadata": {},
     "output_type": "execute_result"
    }
   ],
   "source": [
    "# Set biases to all zeros\n",
    "model.fc1.bias.data.fill_(0)"
   ]
  },
  {
   "cell_type": "code",
   "execution_count": 40,
   "metadata": {},
   "outputs": [
    {
     "data": {
      "text/plain": [
       "tensor([[ 0.0109, -0.0112, -0.0025,  ...,  0.0100, -0.0197, -0.0037],\n",
       "        [-0.0093, -0.0014, -0.0057,  ...,  0.0071,  0.0041,  0.0033],\n",
       "        [ 0.0079, -0.0015, -0.0092,  ...,  0.0048,  0.0109, -0.0122],\n",
       "        ...,\n",
       "        [ 0.0094,  0.0035,  0.0071,  ...,  0.0060, -0.0030,  0.0184],\n",
       "        [-0.0213,  0.0012,  0.0075,  ..., -0.0003,  0.0067, -0.0063],\n",
       "        [ 0.0022, -0.0069, -0.0001,  ..., -0.0046,  0.0078,  0.0185]])"
      ]
     },
     "execution_count": 40,
     "metadata": {},
     "output_type": "execute_result"
    }
   ],
   "source": [
    "# sample from random normal with standard dev = 0.01\n",
    "model.fc1.weight.data.normal_(std=0.01)"
   ]
  },
  {
   "cell_type": "markdown",
   "metadata": {},
   "source": [
    "### Forward pass\n",
    "\n",
    "Now that we have a network, let's see what happens when we pass in an image."
   ]
  },
  {
   "cell_type": "code",
   "execution_count": 41,
   "metadata": {},
   "outputs": [
    {
     "data": {
      "image/png": "[encoded data removed]",
      "text/plain": [
       "<Figure size 432x648 with 2 Axes>"
      ]
     },
     "metadata": {
      "image/png": {
       "height": 226,
       "width": 423
      },
      "needs_background": "light"
     },
     "output_type": "display_data"
    }
   ],
   "source": [
    "# Grab some data \n",
    "dataiter = iter(trainloader)\n",
    "images, labels = dataiter.next()\n",
    "\n",
    "# Resize images into a 1D vector, new shape is (batch size, color channels, image pixels) \n",
    "images.resize_(64, 1, 784)\n",
    "# or images.resize_(images.shape[0], 1, 784) to automatically get batch size\n",
    "\n",
    "# Forward pass through the network\n",
    "img_idx = 0\n",
    "ps = model.forward(images[img_idx,:])\n",
    "\n",
    "img = images[img_idx]\n",
    "helper.view_classify(img.view(1, 28, 28), ps)"
   ]
  },
  {
   "cell_type": "markdown",
   "metadata": {},
   "source": [
    "As you can see above, our network has basically no idea what this digit is. It's because we haven't trained it yet, all the weights are random!\n",
    "\n",
    "### Using `nn.Sequential`\n",
    "\n",
    "PyTorch provides a convenient way to build networks like this where a tensor is passed sequentially through operations, `nn.Sequential` ([documentation](https://pytorch.org/docs/master/nn.html#torch.nn.Sequential)). Using this to build the equivalent network:"
   ]
  },
  {
   "cell_type": "code",
   "execution_count": 42,
   "metadata": {},
   "outputs": [
    {
     "name": "stdout",
     "output_type": "stream",
     "text": [
      "Sequential(\n",
      "  (0): Linear(in_features=784, out_features=128, bias=True)\n",
      "  (1): ReLU()\n",
      "  (2): Linear(in_features=128, out_features=64, bias=True)\n",
      "  (3): ReLU()\n",
      "  (4): Linear(in_features=64, out_features=10, bias=True)\n",
      "  (5): Softmax()\n",
      ")\n"
     ]
    },
    {
     "data": {
      "image/png": "[encoded data removed]",
      "text/plain": [
       "<Figure size 432x648 with 2 Axes>"
      ]
     },
     "metadata": {
      "image/png": {
       "height": 226,
       "width": 423
      },
      "needs_background": "light"
     },
     "output_type": "display_data"
    }
   ],
   "source": [
    "# Hyperparameters for our network\n",
    "input_size = 784\n",
    "hidden_sizes = [128, 64]\n",
    "output_size = 10\n",
    "\n",
    "# Build a feed-forward network\n",
    "model = nn.Sequential(nn.Linear(input_size, hidden_sizes[0]),\n",
    "                      nn.ReLU(),\n",
    "                      nn.Linear(hidden_sizes[0], hidden_sizes[1]),\n",
    "                      nn.ReLU(),\n",
    "                      nn.Linear(hidden_sizes[1], output_size),\n",
    "                      nn.Softmax(dim=1))\n",
    "print(model)\n",
    "\n",
    "# Forward pass through the network and display output\n",
    "images, labels = next(iter(trainloader))\n",
    "images.resize_(images.shape[0], 1, 784)\n",
    "ps = model.forward(images[0,:])\n",
    "helper.view_classify(images[0].view(1, 28, 28), ps)"
   ]
  },
  {
   "cell_type": "markdown",
   "metadata": {},
   "source": [
    "The operations are availble by passing in the appropriate index. For example, if you want to get first Linear operation and look at the weights, you'd use `model[0]`."
   ]
  },
  {
   "cell_type": "code",
   "execution_count": 43,
   "metadata": {},
   "outputs": [
    {
     "name": "stdout",
     "output_type": "stream",
     "text": [
      "Linear(in_features=784, out_features=128, bias=True)\n"
     ]
    },
    {
     "data": {
      "text/plain": [
       "Parameter containing:\n",
       "tensor([[-0.0120,  0.0025,  0.0056,  ...,  0.0059, -0.0074,  0.0194],\n",
       "        [-0.0330,  0.0111,  0.0064,  ...,  0.0184, -0.0280, -0.0214],\n",
       "        [ 0.0081,  0.0096, -0.0222,  ...,  0.0355, -0.0338,  0.0167],\n",
       "        ...,\n",
       "        [ 0.0239,  0.0274, -0.0281,  ...,  0.0100,  0.0267,  0.0178],\n",
       "        [ 0.0248,  0.0345, -0.0301,  ...,  0.0040,  0.0336,  0.0275],\n",
       "        [-0.0144, -0.0256, -0.0231,  ..., -0.0219, -0.0148,  0.0049]],\n",
       "       requires_grad=True)"
      ]
     },
     "execution_count": 43,
     "metadata": {},
     "output_type": "execute_result"
    }
   ],
   "source": [
    "print(model[0])\n",
    "model[0].weight"
   ]
  },
  {
   "cell_type": "markdown",
   "metadata": {},
   "source": [
    "You can also pass in an `OrderedDict` to name the individual layers and operations, instead of using incremental integers. Note that dictionary keys must be unique, so _each operation must have a different name_."
   ]
  },
  {
   "cell_type": "code",
   "execution_count": 44,
   "metadata": {},
   "outputs": [
    {
     "data": {
      "text/plain": [
       "Sequential(\n",
       "  (fc1): Linear(in_features=784, out_features=128, bias=True)\n",
       "  (relu1): ReLU()\n",
       "  (fc2): Linear(in_features=128, out_features=64, bias=True)\n",
       "  (relu2): ReLU()\n",
       "  (output): Linear(in_features=64, out_features=10, bias=True)\n",
       "  (softmax): Softmax()\n",
       ")"
      ]
     },
     "execution_count": 44,
     "metadata": {},
     "output_type": "execute_result"
    }
   ],
   "source": [
    "from collections import OrderedDict\n",
    "model = nn.Sequential(OrderedDict([\n",
    "                      ('fc1', nn.Linear(input_size, hidden_sizes[0])),\n",
    "                      ('relu1', nn.ReLU()),\n",
    "                      ('fc2', nn.Linear(hidden_sizes[0], hidden_sizes[1])),\n",
    "                      ('relu2', nn.ReLU()),\n",
    "                      ('output', nn.Linear(hidden_sizes[1], output_size)),\n",
    "                      ('softmax', nn.Softmax(dim=1))]))\n",
    "model"
   ]
  },
  {
   "cell_type": "markdown",
   "metadata": {},
   "source": [
    "Now you can access layers either by integer or the name"
   ]
  },
  {
   "cell_type": "code",
   "execution_count": 45,
   "metadata": {},
   "outputs": [
    {
     "name": "stdout",
     "output_type": "stream",
     "text": [
      "Linear(in_features=784, out_features=128, bias=True)\n",
      "Linear(in_features=784, out_features=128, bias=True)\n"
     ]
    }
   ],
   "source": [
    "print(model[0])\n",
    "print(model.fc1)"
   ]
  },
  {
   "cell_type": "markdown",
   "metadata": {},
   "source": [
    "In the next notebook, we'll see how we can train a neural network to accuractly predict the numbers appearing in the MNIST images."
   ]
  }
 ],
 "metadata": {
  "kernelspec": {
   "display_name": "Python 3",
   "language": "python",
   "name": "python3"
  },
  "language_info": {
   "codemirror_mode": {
    "name": "ipython",
    "version": 3
   },
   "file_extension": ".py",
   "mimetype": "text/x-python",
   "name": "python",
   "nbconvert_exporter": "python",
   "pygments_lexer": "ipython3",
   "version": "3.6.6"
  }
 },
 "nbformat": 4,
 "nbformat_minor": 2
}
